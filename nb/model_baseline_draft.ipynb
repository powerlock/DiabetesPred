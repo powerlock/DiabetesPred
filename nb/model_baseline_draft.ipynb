{
 "cells": [
  {
   "cell_type": "markdown",
   "id": "13fa1867",
   "metadata": {},
   "source": [
    "# Creation of baseline model for GRI\n",
    "\n",
    "This notebook loads data and formats it for injestion by several initial models. Baseline performance is established for a prediction of future Glycemic Risk Index (GRI). Specifically, users are classified based on whether they have a GRI above 40 in a future 2 week period based on the previous 2 weeks of daily-aggregated CGM data. Note that GRI has been correlated to clinicians' ratings of glycemia in [this paper](https://journals.sagepub.com/doi/full/10.1177/19322968221085273)."
   ]
  },
  {
   "cell_type": "markdown",
   "id": "d3bfd6a5",
   "metadata": {},
   "source": [
    "## Import statements"
   ]
  },
  {
   "cell_type": "code",
   "execution_count": 84,
   "id": "ba0c039c",
   "metadata": {},
   "outputs": [],
   "source": [
    "import pandas as pd\n",
    "import matplotlib.pyplot as plt\n",
    "plt.rcParams.update({'axes.labelsize':16, 'axes.titlesize':20})\n",
    "import seaborn as sns\n",
    "sns.set_style('whitegrid')\n",
    "from sklearn.preprocessing import OneHotEncoder"
   ]
  },
  {
   "cell_type": "markdown",
   "id": "f7c38be6",
   "metadata": {},
   "source": [
    "## Data loading"
   ]
  },
  {
   "cell_type": "code",
   "execution_count": 85,
   "id": "517468b6",
   "metadata": {},
   "outputs": [],
   "source": [
    "users_info_df = pd.read_csv('../../data/users_info.csv')\n",
    "users_ds_df = pd.read_csv('../../data/users_daily_stats.csv')"
   ]
  },
  {
   "cell_type": "markdown",
   "id": "e71e3d46",
   "metadata": {},
   "source": [
    "## Quick look at variables we have in user info file"
   ]
  },
  {
   "cell_type": "code",
   "execution_count": 86,
   "id": "d13bdc62",
   "metadata": {},
   "outputs": [
    {
     "name": "stdout",
     "output_type": "stream",
     "text": [
      "<class 'pandas.core.frame.DataFrame'>\n",
      "RangeIndex: 4130 entries, 0 to 4129\n",
      "Data columns (total 17 columns):\n",
      " #   Column               Non-Null Count  Dtype  \n",
      "---  ------               --------------  -----  \n",
      " 0   Unnamed: 0           4130 non-null   int64  \n",
      " 1   ID                   4130 non-null   int64  \n",
      " 2   DIABETES_TYPE        4130 non-null   object \n",
      " 3   GENDER               4130 non-null   object \n",
      " 4   DATE_OF_BIRTH        4130 non-null   object \n",
      " 5   CURRENT_AGE          4130 non-null   int64  \n",
      " 6   AGE_WHEN_REGISTERED  4130 non-null   int64  \n",
      " 7   APPLICATION_NAME     4128 non-null   object \n",
      " 8   OS                   4128 non-null   object \n",
      " 9   HAS_CGM              4130 non-null   bool   \n",
      " 10  HAS_PUMP             4130 non-null   bool   \n",
      " 11  HAS_METER            4130 non-null   bool   \n",
      " 12  SYNC_COUNT           4130 non-null   int64  \n",
      " 13  EVENT_COUNT          879 non-null    float64\n",
      " 14  FOOD_COUNT           879 non-null    float64\n",
      " 15  EXERCISE_COUNT       879 non-null    float64\n",
      " 16  MEDICATION_COUNT     879 non-null    float64\n",
      "dtypes: bool(3), float64(4), int64(5), object(5)\n",
      "memory usage: 463.9+ KB\n"
     ]
    }
   ],
   "source": [
    "users_info_df.info()"
   ]
  },
  {
   "cell_type": "markdown",
   "id": "3dba2b03",
   "metadata": {},
   "source": [
    "## Generate additional variables from user info\n",
    "Create variable for length of glooko app use, has_other_count (boolean), and use one-hot encoder on APPLICATION_NAME and OS (to separate those categorical variables out into individual booleans). Note that APPLICATION_NAME is the application used to upload glucose data, while OS is the system operating system used for the upload."
   ]
  },
  {
   "cell_type": "code",
   "execution_count": 87,
   "id": "cb311d9a",
   "metadata": {},
   "outputs": [],
   "source": [
    "users_info_df['APP_LENGTH'] = users_info_df['CURRENT_AGE'] - \\\n",
    "                                users_info_df['AGE_WHEN_REGISTERED']"
   ]
  },
  {
   "cell_type": "code",
   "execution_count": 88,
   "id": "31813ff0",
   "metadata": {},
   "outputs": [],
   "source": [
    "users_info_df['HAS_OTHER_COUNT'] = users_info_df['EVENT_COUNT'].notnull()"
   ]
  },
  {
   "cell_type": "code",
   "execution_count": 89,
   "id": "5312ea1c",
   "metadata": {},
   "outputs": [],
   "source": [
    "# One hot encode the APPLICATION_NAME variable\n",
    "users_info_df = pd.concat(\n",
    "    [users_info_df, \n",
    "     users_info_df['APPLICATION_NAME'].str.get_dummies(sep=\",\")\n",
    "    ], axis=1)"
   ]
  },
  {
   "cell_type": "code",
   "execution_count": 90,
   "id": "9ab73ad6",
   "metadata": {},
   "outputs": [],
   "source": [
    "# One hot encode the OS variable\n",
    "users_info_df = pd.concat(\n",
    "    [users_info_df, \n",
    "     users_info_df['OS'].str.get_dummies(sep=\",\")\n",
    "    ], axis=1)"
   ]
  },
  {
   "cell_type": "code",
   "execution_count": 91,
   "id": "53bb5224",
   "metadata": {},
   "outputs": [
    {
     "data": {
      "text/plain": [
       "Index(['Unnamed: 0', 'ID', 'DIABETES_TYPE', 'GENDER', 'DATE_OF_BIRTH',\n",
       "       'CURRENT_AGE', 'AGE_WHEN_REGISTERED', 'APPLICATION_NAME', 'OS',\n",
       "       'HAS_CGM', 'HAS_PUMP', 'HAS_METER', 'SYNC_COUNT', 'EVENT_COUNT',\n",
       "       'FOOD_COUNT', 'EXERCISE_COUNT', 'MEDICATION_COUNT', 'APP_LENGTH',\n",
       "       'HAS_OTHER_COUNT', 'c4c', 'kiosk', 'logbook', 'patient_uploader',\n",
       "       'server', 'android', 'browser', 'ios'],\n",
       "      dtype='object')"
      ]
     },
     "execution_count": 91,
     "metadata": {},
     "output_type": "execute_result"
    }
   ],
   "source": [
    "users_info_df.columns"
   ]
  },
  {
   "cell_type": "code",
   "execution_count": 92,
   "id": "796f73a8",
   "metadata": {},
   "outputs": [],
   "source": [
    "users_info_var_select = ['GENDER','CURRENT_AGE','HAS_PUMP','HAS_METER',\n",
    "                        'SYNC_COUNT','APP_LENGTH','HAS_OTHER_COUNT',\n",
    "                        'c4c','kiosk','logbook','patient_uploader',\n",
    "                        'server','android','browser','ios']"
   ]
  },
  {
   "cell_type": "markdown",
   "id": "693f0f8d",
   "metadata": {},
   "source": [
    "## Quick look at variables we have in daily stats file"
   ]
  },
  {
   "cell_type": "code",
   "execution_count": 93,
   "id": "6a77c2bc",
   "metadata": {},
   "outputs": [
    {
     "name": "stdout",
     "output_type": "stream",
     "text": [
      "<class 'pandas.core.frame.DataFrame'>\n",
      "RangeIndex: 375830 entries, 0 to 375829\n",
      "Data columns (total 22 columns):\n",
      " #   Column                   Non-Null Count   Dtype  \n",
      "---  ------                   --------------   -----  \n",
      " 0   Unnamed: 0               375830 non-null  int64  \n",
      " 1   USER_ID                  375830 non-null  int64  \n",
      " 2   TIME_CGM_ACTIVE          375830 non-null  float64\n",
      " 3   AVERAGE_VALUE            375830 non-null  float64\n",
      " 4   READING_COUNT            375830 non-null  int64  \n",
      " 5   ABOVE_180                375830 non-null  int64  \n",
      " 6   ABOVE_250                375830 non-null  int64  \n",
      " 7   ABOVE_400                375830 non-null  int64  \n",
      " 8   BELOW_50                 375830 non-null  int64  \n",
      " 9   BELOW_54                 375830 non-null  int64  \n",
      " 10  BELOW_60                 375830 non-null  int64  \n",
      " 11  BELOW_70                 375830 non-null  int64  \n",
      " 12  LOWEST_VALUE             375830 non-null  float64\n",
      " 13  HIGHEST_VALUE            375830 non-null  float64\n",
      " 14  DATE                     375830 non-null  object \n",
      " 15  TOTAL_INSULIN            156858 non-null  float64\n",
      " 16  TOTAL_BASAL              156858 non-null  float64\n",
      " 17  TOTAL_BOLUS              156858 non-null  float64\n",
      " 18  HAS_REMOTE_SMBG_DATA     375649 non-null  object \n",
      " 19  HAS_REMOTE_CGM_DATA      375649 non-null  object \n",
      " 20  HAS_REMOTE_INSULIN_DATA  375649 non-null  object \n",
      " 21  HAS_IN_CLINIC_SYNC       375649 non-null  object \n",
      "dtypes: float64(7), int64(10), object(5)\n",
      "memory usage: 63.1+ MB\n"
     ]
    }
   ],
   "source": [
    "users_ds_df.info()"
   ]
  },
  {
   "cell_type": "markdown",
   "id": "6eebe051",
   "metadata": {},
   "source": [
    "## Generate additional (time series) variables from daily stats"
   ]
  },
  {
   "cell_type": "markdown",
   "id": "d2c37152",
   "metadata": {},
   "source": [
    "Note that some users don't have 100% active time. (And some users have over 100% active time.) For this analysis we will assume the data we do have is representative of the entire day. Under this assumption, if there are 5 readings below 70 out of 100 readings for the day, then this indicates the user had 5% of time below range and we will assume the user had 5% of time below range for the entire day. In this section we will change the units of the ABOVE_* and BELOW_* variables from 'counts' to '% of time'. Note that a typical glucose monitor records readings every five minutes. Therefore, an active time of 1.0 (100%) is equal to 288 readings (24 hours * 60 min / hr * 1 reading / 5 min = 288 readings)."
   ]
  },
  {
   "cell_type": "code",
   "execution_count": 94,
   "id": "c221a909",
   "metadata": {},
   "outputs": [
    {
     "data": {
      "text/plain": [
       "count    375830.000000\n",
       "mean          0.999197\n",
       "std           0.161408\n",
       "min           0.003472\n",
       "25%           1.000000\n",
       "50%           1.000000\n",
       "75%           1.000000\n",
       "max           3.274306\n",
       "Name: TIME_CGM_ACTIVE, dtype: float64"
      ]
     },
     "execution_count": 94,
     "metadata": {},
     "output_type": "execute_result"
    }
   ],
   "source": [
    "users_ds_df['TIME_CGM_ACTIVE'].describe()"
   ]
  },
  {
   "cell_type": "code",
   "execution_count": 95,
   "id": "df350919",
   "metadata": {},
   "outputs": [
    {
     "data": {
      "image/png": "[encoded data removed]",
      "text/plain": [
       "<Figure size 432x288 with 1 Axes>"
      ]
     },
     "metadata": {},
     "output_type": "display_data"
    }
   ],
   "source": [
    "sns.histplot(users_ds_df['TIME_CGM_ACTIVE'], bins=30);"
   ]
  },
  {
   "cell_type": "markdown",
   "id": "b45e645f",
   "metadata": {},
   "source": [
    "This is what the above/below count variables look like."
   ]
  },
  {
   "cell_type": "code",
   "execution_count": 96,
   "id": "489beabc",
   "metadata": {},
   "outputs": [
    {
     "data": {
      "text/html": [
       "<div>\n",
       "<style scoped>\n",
       "    .dataframe tbody tr th:only-of-type {\n",
       "        vertical-align: middle;\n",
       "    }\n",
       "\n",
       "    .dataframe tbody tr th {\n",
       "        vertical-align: top;\n",
       "    }\n",
       "\n",
       "    .dataframe thead th {\n",
       "        text-align: right;\n",
       "    }\n",
       "</style>\n",
       "<table border=\"1\" class=\"dataframe\">\n",
       "  <thead>\n",
       "    <tr style=\"text-align: right;\">\n",
       "      <th></th>\n",
       "      <th>TIME_CGM_ACTIVE</th>\n",
       "      <th>ABOVE_180</th>\n",
       "      <th>ABOVE_250</th>\n",
       "      <th>ABOVE_400</th>\n",
       "      <th>BELOW_50</th>\n",
       "      <th>BELOW_54</th>\n",
       "      <th>BELOW_60</th>\n",
       "      <th>BELOW_70</th>\n",
       "      <th>READING_COUNT</th>\n",
       "    </tr>\n",
       "  </thead>\n",
       "  <tbody>\n",
       "    <tr>\n",
       "      <th>0</th>\n",
       "      <td>1.000000</td>\n",
       "      <td>87</td>\n",
       "      <td>22</td>\n",
       "      <td>0</td>\n",
       "      <td>0</td>\n",
       "      <td>0</td>\n",
       "      <td>2</td>\n",
       "      <td>5</td>\n",
       "      <td>288</td>\n",
       "    </tr>\n",
       "    <tr>\n",
       "      <th>1</th>\n",
       "      <td>1.000000</td>\n",
       "      <td>137</td>\n",
       "      <td>39</td>\n",
       "      <td>0</td>\n",
       "      <td>0</td>\n",
       "      <td>0</td>\n",
       "      <td>0</td>\n",
       "      <td>3</td>\n",
       "      <td>288</td>\n",
       "    </tr>\n",
       "    <tr>\n",
       "      <th>2</th>\n",
       "      <td>1.000000</td>\n",
       "      <td>13</td>\n",
       "      <td>0</td>\n",
       "      <td>0</td>\n",
       "      <td>0</td>\n",
       "      <td>0</td>\n",
       "      <td>0</td>\n",
       "      <td>6</td>\n",
       "      <td>288</td>\n",
       "    </tr>\n",
       "    <tr>\n",
       "      <th>3</th>\n",
       "      <td>0.986111</td>\n",
       "      <td>17</td>\n",
       "      <td>0</td>\n",
       "      <td>0</td>\n",
       "      <td>0</td>\n",
       "      <td>0</td>\n",
       "      <td>0</td>\n",
       "      <td>10</td>\n",
       "      <td>284</td>\n",
       "    </tr>\n",
       "    <tr>\n",
       "      <th>4</th>\n",
       "      <td>1.000000</td>\n",
       "      <td>27</td>\n",
       "      <td>0</td>\n",
       "      <td>0</td>\n",
       "      <td>0</td>\n",
       "      <td>4</td>\n",
       "      <td>12</td>\n",
       "      <td>27</td>\n",
       "      <td>288</td>\n",
       "    </tr>\n",
       "    <tr>\n",
       "      <th>5</th>\n",
       "      <td>1.003472</td>\n",
       "      <td>175</td>\n",
       "      <td>102</td>\n",
       "      <td>0</td>\n",
       "      <td>0</td>\n",
       "      <td>0</td>\n",
       "      <td>0</td>\n",
       "      <td>0</td>\n",
       "      <td>289</td>\n",
       "    </tr>\n",
       "    <tr>\n",
       "      <th>6</th>\n",
       "      <td>1.000000</td>\n",
       "      <td>0</td>\n",
       "      <td>0</td>\n",
       "      <td>0</td>\n",
       "      <td>0</td>\n",
       "      <td>0</td>\n",
       "      <td>8</td>\n",
       "      <td>27</td>\n",
       "      <td>288</td>\n",
       "    </tr>\n",
       "    <tr>\n",
       "      <th>7</th>\n",
       "      <td>1.000000</td>\n",
       "      <td>222</td>\n",
       "      <td>93</td>\n",
       "      <td>0</td>\n",
       "      <td>0</td>\n",
       "      <td>0</td>\n",
       "      <td>0</td>\n",
       "      <td>0</td>\n",
       "      <td>288</td>\n",
       "    </tr>\n",
       "    <tr>\n",
       "      <th>8</th>\n",
       "      <td>1.000000</td>\n",
       "      <td>52</td>\n",
       "      <td>0</td>\n",
       "      <td>0</td>\n",
       "      <td>0</td>\n",
       "      <td>0</td>\n",
       "      <td>0</td>\n",
       "      <td>3</td>\n",
       "      <td>288</td>\n",
       "    </tr>\n",
       "    <tr>\n",
       "      <th>9</th>\n",
       "      <td>1.000000</td>\n",
       "      <td>36</td>\n",
       "      <td>16</td>\n",
       "      <td>0</td>\n",
       "      <td>0</td>\n",
       "      <td>0</td>\n",
       "      <td>0</td>\n",
       "      <td>1</td>\n",
       "      <td>288</td>\n",
       "    </tr>\n",
       "    <tr>\n",
       "      <th>10</th>\n",
       "      <td>1.000000</td>\n",
       "      <td>131</td>\n",
       "      <td>37</td>\n",
       "      <td>0</td>\n",
       "      <td>0</td>\n",
       "      <td>0</td>\n",
       "      <td>0</td>\n",
       "      <td>0</td>\n",
       "      <td>288</td>\n",
       "    </tr>\n",
       "    <tr>\n",
       "      <th>11</th>\n",
       "      <td>0.979167</td>\n",
       "      <td>51</td>\n",
       "      <td>5</td>\n",
       "      <td>0</td>\n",
       "      <td>0</td>\n",
       "      <td>0</td>\n",
       "      <td>0</td>\n",
       "      <td>2</td>\n",
       "      <td>282</td>\n",
       "    </tr>\n",
       "  </tbody>\n",
       "</table>\n",
       "</div>"
      ],
      "text/plain": [
       "    TIME_CGM_ACTIVE  ABOVE_180  ABOVE_250  ABOVE_400  BELOW_50  BELOW_54  \\\n",
       "0          1.000000         87         22          0         0         0   \n",
       "1          1.000000        137         39          0         0         0   \n",
       "2          1.000000         13          0          0         0         0   \n",
       "3          0.986111         17          0          0         0         0   \n",
       "4          1.000000         27          0          0         0         4   \n",
       "5          1.003472        175        102          0         0         0   \n",
       "6          1.000000          0          0          0         0         0   \n",
       "7          1.000000        222         93          0         0         0   \n",
       "8          1.000000         52          0          0         0         0   \n",
       "9          1.000000         36         16          0         0         0   \n",
       "10         1.000000        131         37          0         0         0   \n",
       "11         0.979167         51          5          0         0         0   \n",
       "\n",
       "    BELOW_60  BELOW_70  READING_COUNT  \n",
       "0          2         5            288  \n",
       "1          0         3            288  \n",
       "2          0         6            288  \n",
       "3          0        10            284  \n",
       "4         12        27            288  \n",
       "5          0         0            289  \n",
       "6          8        27            288  \n",
       "7          0         0            288  \n",
       "8          0         3            288  \n",
       "9          0         1            288  \n",
       "10         0         0            288  \n",
       "11         0         2            282  "
      ]
     },
     "execution_count": 96,
     "metadata": {},
     "output_type": "execute_result"
    }
   ],
   "source": [
    "temp_vars = ['TIME_CGM_ACTIVE','ABOVE_180','ABOVE_250','ABOVE_400',\n",
    "                 'BELOW_50','BELOW_54','BELOW_60','BELOW_70']\n",
    "temp_vars.append('READING_COUNT')\n",
    "users_ds_df[temp_vars].head(12)"
   ]
  },
  {
   "cell_type": "code",
   "execution_count": 97,
   "id": "693549f8",
   "metadata": {},
   "outputs": [
    {
     "data": {
      "text/html": [
       "<div>\n",
       "<style scoped>\n",
       "    .dataframe tbody tr th:only-of-type {\n",
       "        vertical-align: middle;\n",
       "    }\n",
       "\n",
       "    .dataframe tbody tr th {\n",
       "        vertical-align: top;\n",
       "    }\n",
       "\n",
       "    .dataframe thead th {\n",
       "        text-align: right;\n",
       "    }\n",
       "</style>\n",
       "<table border=\"1\" class=\"dataframe\">\n",
       "  <thead>\n",
       "    <tr style=\"text-align: right;\">\n",
       "      <th></th>\n",
       "      <th>TIME_CGM_ACTIVE</th>\n",
       "      <th>ABOVE_180</th>\n",
       "      <th>ABOVE_250</th>\n",
       "      <th>ABOVE_400</th>\n",
       "      <th>BELOW_50</th>\n",
       "      <th>BELOW_54</th>\n",
       "      <th>BELOW_60</th>\n",
       "      <th>BELOW_70</th>\n",
       "      <th>READING_COUNT</th>\n",
       "    </tr>\n",
       "  </thead>\n",
       "  <tbody>\n",
       "    <tr>\n",
       "      <th>0</th>\n",
       "      <td>1.000000</td>\n",
       "      <td>30.21</td>\n",
       "      <td>7.64</td>\n",
       "      <td>0.0</td>\n",
       "      <td>0.0</td>\n",
       "      <td>0.00</td>\n",
       "      <td>0.69</td>\n",
       "      <td>1.74</td>\n",
       "      <td>288</td>\n",
       "    </tr>\n",
       "    <tr>\n",
       "      <th>1</th>\n",
       "      <td>1.000000</td>\n",
       "      <td>47.57</td>\n",
       "      <td>13.54</td>\n",
       "      <td>0.0</td>\n",
       "      <td>0.0</td>\n",
       "      <td>0.00</td>\n",
       "      <td>0.00</td>\n",
       "      <td>1.04</td>\n",
       "      <td>288</td>\n",
       "    </tr>\n",
       "    <tr>\n",
       "      <th>2</th>\n",
       "      <td>1.000000</td>\n",
       "      <td>4.51</td>\n",
       "      <td>0.00</td>\n",
       "      <td>0.0</td>\n",
       "      <td>0.0</td>\n",
       "      <td>0.00</td>\n",
       "      <td>0.00</td>\n",
       "      <td>2.08</td>\n",
       "      <td>288</td>\n",
       "    </tr>\n",
       "    <tr>\n",
       "      <th>3</th>\n",
       "      <td>0.986111</td>\n",
       "      <td>5.99</td>\n",
       "      <td>0.00</td>\n",
       "      <td>0.0</td>\n",
       "      <td>0.0</td>\n",
       "      <td>0.00</td>\n",
       "      <td>0.00</td>\n",
       "      <td>3.52</td>\n",
       "      <td>284</td>\n",
       "    </tr>\n",
       "    <tr>\n",
       "      <th>4</th>\n",
       "      <td>1.000000</td>\n",
       "      <td>9.38</td>\n",
       "      <td>0.00</td>\n",
       "      <td>0.0</td>\n",
       "      <td>0.0</td>\n",
       "      <td>1.39</td>\n",
       "      <td>4.17</td>\n",
       "      <td>9.38</td>\n",
       "      <td>288</td>\n",
       "    </tr>\n",
       "    <tr>\n",
       "      <th>5</th>\n",
       "      <td>1.003472</td>\n",
       "      <td>60.55</td>\n",
       "      <td>35.29</td>\n",
       "      <td>0.0</td>\n",
       "      <td>0.0</td>\n",
       "      <td>0.00</td>\n",
       "      <td>0.00</td>\n",
       "      <td>0.00</td>\n",
       "      <td>289</td>\n",
       "    </tr>\n",
       "    <tr>\n",
       "      <th>6</th>\n",
       "      <td>1.000000</td>\n",
       "      <td>0.00</td>\n",
       "      <td>0.00</td>\n",
       "      <td>0.0</td>\n",
       "      <td>0.0</td>\n",
       "      <td>0.00</td>\n",
       "      <td>2.78</td>\n",
       "      <td>9.38</td>\n",
       "      <td>288</td>\n",
       "    </tr>\n",
       "    <tr>\n",
       "      <th>7</th>\n",
       "      <td>1.000000</td>\n",
       "      <td>77.08</td>\n",
       "      <td>32.29</td>\n",
       "      <td>0.0</td>\n",
       "      <td>0.0</td>\n",
       "      <td>0.00</td>\n",
       "      <td>0.00</td>\n",
       "      <td>0.00</td>\n",
       "      <td>288</td>\n",
       "    </tr>\n",
       "    <tr>\n",
       "      <th>8</th>\n",
       "      <td>1.000000</td>\n",
       "      <td>18.06</td>\n",
       "      <td>0.00</td>\n",
       "      <td>0.0</td>\n",
       "      <td>0.0</td>\n",
       "      <td>0.00</td>\n",
       "      <td>0.00</td>\n",
       "      <td>1.04</td>\n",
       "      <td>288</td>\n",
       "    </tr>\n",
       "    <tr>\n",
       "      <th>9</th>\n",
       "      <td>1.000000</td>\n",
       "      <td>12.50</td>\n",
       "      <td>5.56</td>\n",
       "      <td>0.0</td>\n",
       "      <td>0.0</td>\n",
       "      <td>0.00</td>\n",
       "      <td>0.00</td>\n",
       "      <td>0.35</td>\n",
       "      <td>288</td>\n",
       "    </tr>\n",
       "    <tr>\n",
       "      <th>10</th>\n",
       "      <td>1.000000</td>\n",
       "      <td>45.49</td>\n",
       "      <td>12.85</td>\n",
       "      <td>0.0</td>\n",
       "      <td>0.0</td>\n",
       "      <td>0.00</td>\n",
       "      <td>0.00</td>\n",
       "      <td>0.00</td>\n",
       "      <td>288</td>\n",
       "    </tr>\n",
       "    <tr>\n",
       "      <th>11</th>\n",
       "      <td>0.979167</td>\n",
       "      <td>18.09</td>\n",
       "      <td>1.77</td>\n",
       "      <td>0.0</td>\n",
       "      <td>0.0</td>\n",
       "      <td>0.00</td>\n",
       "      <td>0.00</td>\n",
       "      <td>0.71</td>\n",
       "      <td>282</td>\n",
       "    </tr>\n",
       "  </tbody>\n",
       "</table>\n",
       "</div>"
      ],
      "text/plain": [
       "    TIME_CGM_ACTIVE  ABOVE_180  ABOVE_250  ABOVE_400  BELOW_50  BELOW_54  \\\n",
       "0          1.000000      30.21       7.64        0.0       0.0      0.00   \n",
       "1          1.000000      47.57      13.54        0.0       0.0      0.00   \n",
       "2          1.000000       4.51       0.00        0.0       0.0      0.00   \n",
       "3          0.986111       5.99       0.00        0.0       0.0      0.00   \n",
       "4          1.000000       9.38       0.00        0.0       0.0      1.39   \n",
       "5          1.003472      60.55      35.29        0.0       0.0      0.00   \n",
       "6          1.000000       0.00       0.00        0.0       0.0      0.00   \n",
       "7          1.000000      77.08      32.29        0.0       0.0      0.00   \n",
       "8          1.000000      18.06       0.00        0.0       0.0      0.00   \n",
       "9          1.000000      12.50       5.56        0.0       0.0      0.00   \n",
       "10         1.000000      45.49      12.85        0.0       0.0      0.00   \n",
       "11         0.979167      18.09       1.77        0.0       0.0      0.00   \n",
       "\n",
       "    BELOW_60  BELOW_70  READING_COUNT  \n",
       "0       0.69      1.74            288  \n",
       "1       0.00      1.04            288  \n",
       "2       0.00      2.08            288  \n",
       "3       0.00      3.52            284  \n",
       "4       4.17      9.38            288  \n",
       "5       0.00      0.00            289  \n",
       "6       2.78      9.38            288  \n",
       "7       0.00      0.00            288  \n",
       "8       0.00      1.04            288  \n",
       "9       0.00      0.35            288  \n",
       "10      0.00      0.00            288  \n",
       "11      0.00      0.71            282  "
      ]
     },
     "execution_count": 97,
     "metadata": {},
     "output_type": "execute_result"
    }
   ],
   "source": [
    "# Change the units of these reading counts variable from counts to % of time\n",
    "read_cnt_vars = ['ABOVE_180','ABOVE_250','ABOVE_400',\n",
    "                 'BELOW_50','BELOW_54','BELOW_60','BELOW_70']\n",
    "for i,var in enumerate(read_cnt_vars):\n",
    "    #users_ds_df[var] = users_ds_df[var] / users_ds_df['TIME_CGM_ACTIVE']\n",
    "    users_ds_df[var] = round(100 * users_ds_df[var] / \n",
    "                             users_ds_df['READING_COUNT'],2)\n",
    "users_ds_df[temp_vars].head(12)"
   ]
  },
  {
   "cell_type": "code",
   "execution_count": 98,
   "id": "d97d3f0c",
   "metadata": {},
   "outputs": [
    {
     "data": {
      "text/plain": [
       "count    375830.000000\n",
       "mean         30.836868\n",
       "std          24.832058\n",
       "min           0.000000\n",
       "25%          10.270000\n",
       "50%          26.040000\n",
       "75%          46.880000\n",
       "max         100.000000\n",
       "Name: ABOVE_180, dtype: float64"
      ]
     },
     "execution_count": 98,
     "metadata": {},
     "output_type": "execute_result"
    }
   ],
   "source": [
    "users_ds_df[\"ABOVE_180\"].describe()"
   ]
  },
  {
   "cell_type": "code",
   "execution_count": 99,
   "id": "4d2199af",
   "metadata": {},
   "outputs": [
    {
     "data": {
      "text/plain": [
       "count    375830.000000\n",
       "mean          2.824835\n",
       "std           5.234385\n",
       "min           0.000000\n",
       "25%           0.000000\n",
       "50%           0.350000\n",
       "75%           3.470000\n",
       "max         100.000000\n",
       "Name: BELOW_70, dtype: float64"
      ]
     },
     "execution_count": 99,
     "metadata": {},
     "output_type": "execute_result"
    }
   ],
   "source": [
    "users_ds_df[\"BELOW_70\"].describe()"
   ]
  },
  {
   "cell_type": "markdown",
   "id": "2d7ad8a6",
   "metadata": {},
   "source": [
    "The output above shows the variables after the units have been changed. The variables ABOVE_* and BELOW_* are affected."
   ]
  },
  {
   "cell_type": "markdown",
   "id": "03629ac0",
   "metadata": {},
   "source": [
    "Now we will create the Glycemic Risk Index (GRI) variable. The GRI is defined by the formula below. Note that a large value indicates a higher glycemic risk, which is associated with negative health outcomes"
   ]
  },
  {
   "cell_type": "code",
   "execution_count": 100,
   "id": "c92c4d9e",
   "metadata": {},
   "outputs": [],
   "source": [
    "# Create variable for Glycemic Risk Index (GRI)\n",
    "# GRI = (3.0 × VLow) + (2.4 × Low) + (1.6 × VHigh) + (0.8 × High)\n",
    "# or alternatively: GRI = (3.0 × HypoComp) + (1.6 × HyperComp)\n",
    "# where Hypoglycemia Component = VLow + (0.8 × Low)\n",
    "#   and Hyperglycemia Component = VHigh + (0.5 × High)\n",
    "# and where VLow = # time < 54, Low = # time from 54 to < 70\n",
    "#          VHigh = # time > 250, High = # time from 250 to > 180\n",
    "GRI_temp = pd.DataFrame()\n",
    "GRI_temp['VLow'] = users_ds_df['BELOW_54']\n",
    "GRI_temp['Low'] = users_ds_df['BELOW_70'] - users_ds_df['BELOW_54']\n",
    "GRI_temp['VHigh'] = users_ds_df['ABOVE_250']\n",
    "GRI_temp['High'] = users_ds_df['ABOVE_180'] - users_ds_df['ABOVE_250']"
   ]
  },
  {
   "cell_type": "code",
   "execution_count": 101,
   "id": "4f974822",
   "metadata": {},
   "outputs": [],
   "source": [
    "# Create HypoComp, HyperComp, and GRI for each user and day in the daily stats dataframe\n",
    "users_ds_df['GRI_HYPO'] = GRI_temp['VLow'] + 0.8 * GRI_temp['Low']\n",
    "users_ds_df['GRI_HYPER'] = GRI_temp['VHigh'] + 0.5 * GRI_temp['High']\n",
    "users_ds_df['GRI'] = 3 * users_ds_df['GRI_HYPO'] \\\n",
    "                     + 1.6 * users_ds_df['GRI_HYPER']"
   ]
  },
  {
   "cell_type": "code",
   "execution_count": 102,
   "id": "ca85170f",
   "metadata": {},
   "outputs": [
    {
     "data": {
      "text/html": [
       "<div>\n",
       "<style scoped>\n",
       "    .dataframe tbody tr th:only-of-type {\n",
       "        vertical-align: middle;\n",
       "    }\n",
       "\n",
       "    .dataframe tbody tr th {\n",
       "        vertical-align: top;\n",
       "    }\n",
       "\n",
       "    .dataframe thead th {\n",
       "        text-align: right;\n",
       "    }\n",
       "</style>\n",
       "<table border=\"1\" class=\"dataframe\">\n",
       "  <thead>\n",
       "    <tr style=\"text-align: right;\">\n",
       "      <th></th>\n",
       "      <th>3828</th>\n",
       "      <th>4419</th>\n",
       "      <th>11018</th>\n",
       "      <th>15663</th>\n",
       "      <th>18285</th>\n",
       "      <th>20938</th>\n",
       "      <th>27770</th>\n",
       "      <th>31927</th>\n",
       "      <th>35205</th>\n",
       "      <th>39760</th>\n",
       "    </tr>\n",
       "  </thead>\n",
       "  <tbody>\n",
       "    <tr>\n",
       "      <th>Unnamed: 0</th>\n",
       "      <td>3828</td>\n",
       "      <td>4419</td>\n",
       "      <td>11018</td>\n",
       "      <td>15663</td>\n",
       "      <td>18285</td>\n",
       "      <td>20938</td>\n",
       "      <td>27770</td>\n",
       "      <td>31927</td>\n",
       "      <td>35205</td>\n",
       "      <td>39760</td>\n",
       "    </tr>\n",
       "    <tr>\n",
       "      <th>USER_ID</th>\n",
       "      <td>0</td>\n",
       "      <td>0</td>\n",
       "      <td>0</td>\n",
       "      <td>0</td>\n",
       "      <td>0</td>\n",
       "      <td>0</td>\n",
       "      <td>0</td>\n",
       "      <td>0</td>\n",
       "      <td>0</td>\n",
       "      <td>0</td>\n",
       "    </tr>\n",
       "    <tr>\n",
       "      <th>TIME_CGM_ACTIVE</th>\n",
       "      <td>1.0</td>\n",
       "      <td>1.0</td>\n",
       "      <td>1.0</td>\n",
       "      <td>1.0</td>\n",
       "      <td>1.0</td>\n",
       "      <td>1.0</td>\n",
       "      <td>0.899306</td>\n",
       "      <td>0.996528</td>\n",
       "      <td>1.0</td>\n",
       "      <td>1.0</td>\n",
       "    </tr>\n",
       "    <tr>\n",
       "      <th>AVERAGE_VALUE</th>\n",
       "      <td>218.4375</td>\n",
       "      <td>241.354167</td>\n",
       "      <td>257.315972</td>\n",
       "      <td>199.736111</td>\n",
       "      <td>192.989583</td>\n",
       "      <td>242.006944</td>\n",
       "      <td>304.602317</td>\n",
       "      <td>231.735192</td>\n",
       "      <td>238.920139</td>\n",
       "      <td>211.03125</td>\n",
       "    </tr>\n",
       "    <tr>\n",
       "      <th>READING_COUNT</th>\n",
       "      <td>288</td>\n",
       "      <td>288</td>\n",
       "      <td>288</td>\n",
       "      <td>288</td>\n",
       "      <td>288</td>\n",
       "      <td>288</td>\n",
       "      <td>259</td>\n",
       "      <td>287</td>\n",
       "      <td>288</td>\n",
       "      <td>288</td>\n",
       "    </tr>\n",
       "    <tr>\n",
       "      <th>ABOVE_180</th>\n",
       "      <td>82.99</td>\n",
       "      <td>88.54</td>\n",
       "      <td>83.68</td>\n",
       "      <td>55.56</td>\n",
       "      <td>59.38</td>\n",
       "      <td>70.83</td>\n",
       "      <td>100.0</td>\n",
       "      <td>74.22</td>\n",
       "      <td>87.5</td>\n",
       "      <td>67.36</td>\n",
       "    </tr>\n",
       "    <tr>\n",
       "      <th>ABOVE_250</th>\n",
       "      <td>23.96</td>\n",
       "      <td>37.5</td>\n",
       "      <td>64.58</td>\n",
       "      <td>24.65</td>\n",
       "      <td>0.0</td>\n",
       "      <td>55.56</td>\n",
       "      <td>78.76</td>\n",
       "      <td>56.79</td>\n",
       "      <td>48.61</td>\n",
       "      <td>25.69</td>\n",
       "    </tr>\n",
       "    <tr>\n",
       "      <th>ABOVE_400</th>\n",
       "      <td>0.0</td>\n",
       "      <td>0.0</td>\n",
       "      <td>0.0</td>\n",
       "      <td>0.0</td>\n",
       "      <td>0.0</td>\n",
       "      <td>0.0</td>\n",
       "      <td>0.39</td>\n",
       "      <td>0.0</td>\n",
       "      <td>0.0</td>\n",
       "      <td>0.0</td>\n",
       "    </tr>\n",
       "    <tr>\n",
       "      <th>BELOW_50</th>\n",
       "      <td>0.0</td>\n",
       "      <td>0.0</td>\n",
       "      <td>0.0</td>\n",
       "      <td>0.0</td>\n",
       "      <td>0.0</td>\n",
       "      <td>0.0</td>\n",
       "      <td>0.0</td>\n",
       "      <td>0.0</td>\n",
       "      <td>0.0</td>\n",
       "      <td>0.0</td>\n",
       "    </tr>\n",
       "    <tr>\n",
       "      <th>BELOW_54</th>\n",
       "      <td>0.0</td>\n",
       "      <td>0.0</td>\n",
       "      <td>0.0</td>\n",
       "      <td>0.0</td>\n",
       "      <td>0.0</td>\n",
       "      <td>0.0</td>\n",
       "      <td>0.0</td>\n",
       "      <td>0.0</td>\n",
       "      <td>0.0</td>\n",
       "      <td>0.0</td>\n",
       "    </tr>\n",
       "    <tr>\n",
       "      <th>BELOW_60</th>\n",
       "      <td>0.0</td>\n",
       "      <td>0.0</td>\n",
       "      <td>0.0</td>\n",
       "      <td>0.0</td>\n",
       "      <td>0.0</td>\n",
       "      <td>0.0</td>\n",
       "      <td>0.0</td>\n",
       "      <td>0.0</td>\n",
       "      <td>0.0</td>\n",
       "      <td>0.0</td>\n",
       "    </tr>\n",
       "    <tr>\n",
       "      <th>BELOW_70</th>\n",
       "      <td>0.0</td>\n",
       "      <td>0.0</td>\n",
       "      <td>0.0</td>\n",
       "      <td>0.0</td>\n",
       "      <td>0.0</td>\n",
       "      <td>0.0</td>\n",
       "      <td>0.0</td>\n",
       "      <td>0.7</td>\n",
       "      <td>0.0</td>\n",
       "      <td>0.0</td>\n",
       "    </tr>\n",
       "    <tr>\n",
       "      <th>LOWEST_VALUE</th>\n",
       "      <td>143.0</td>\n",
       "      <td>114.0</td>\n",
       "      <td>73.0</td>\n",
       "      <td>110.0</td>\n",
       "      <td>127.0</td>\n",
       "      <td>158.0</td>\n",
       "      <td>225.0</td>\n",
       "      <td>68.0</td>\n",
       "      <td>80.0</td>\n",
       "      <td>114.0</td>\n",
       "    </tr>\n",
       "    <tr>\n",
       "      <th>HIGHEST_VALUE</th>\n",
       "      <td>296.0</td>\n",
       "      <td>383.0</td>\n",
       "      <td>372.0</td>\n",
       "      <td>308.0</td>\n",
       "      <td>250.0</td>\n",
       "      <td>325.0</td>\n",
       "      <td>401.0</td>\n",
       "      <td>324.0</td>\n",
       "      <td>323.0</td>\n",
       "      <td>322.0</td>\n",
       "    </tr>\n",
       "    <tr>\n",
       "      <th>DATE</th>\n",
       "      <td>2021-04-01</td>\n",
       "      <td>2021-04-02</td>\n",
       "      <td>2021-04-03</td>\n",
       "      <td>2021-04-04</td>\n",
       "      <td>2021-04-05</td>\n",
       "      <td>2021-04-06</td>\n",
       "      <td>2021-04-07</td>\n",
       "      <td>2021-04-08</td>\n",
       "      <td>2021-04-09</td>\n",
       "      <td>2021-04-10</td>\n",
       "    </tr>\n",
       "    <tr>\n",
       "      <th>TOTAL_INSULIN</th>\n",
       "      <td>22.15</td>\n",
       "      <td>22.45</td>\n",
       "      <td>22.5</td>\n",
       "      <td>20.2</td>\n",
       "      <td>20.2</td>\n",
       "      <td>20.2</td>\n",
       "      <td>29.0</td>\n",
       "      <td>21.3</td>\n",
       "      <td>24.75</td>\n",
       "      <td>21.25</td>\n",
       "    </tr>\n",
       "    <tr>\n",
       "      <th>TOTAL_BASAL</th>\n",
       "      <td>18.0</td>\n",
       "      <td>15.7</td>\n",
       "      <td>18.0</td>\n",
       "      <td>18.0</td>\n",
       "      <td>18.0</td>\n",
       "      <td>16.6</td>\n",
       "      <td>19.75</td>\n",
       "      <td>18.0</td>\n",
       "      <td>20.9</td>\n",
       "      <td>18.0</td>\n",
       "    </tr>\n",
       "    <tr>\n",
       "      <th>TOTAL_BOLUS</th>\n",
       "      <td>4.15</td>\n",
       "      <td>6.75</td>\n",
       "      <td>4.5</td>\n",
       "      <td>2.2</td>\n",
       "      <td>2.2</td>\n",
       "      <td>3.6</td>\n",
       "      <td>9.25</td>\n",
       "      <td>3.3</td>\n",
       "      <td>3.85</td>\n",
       "      <td>3.25</td>\n",
       "    </tr>\n",
       "    <tr>\n",
       "      <th>HAS_REMOTE_SMBG_DATA</th>\n",
       "      <td>False</td>\n",
       "      <td>False</td>\n",
       "      <td>False</td>\n",
       "      <td>False</td>\n",
       "      <td>False</td>\n",
       "      <td>False</td>\n",
       "      <td>False</td>\n",
       "      <td>False</td>\n",
       "      <td>False</td>\n",
       "      <td>False</td>\n",
       "    </tr>\n",
       "    <tr>\n",
       "      <th>HAS_REMOTE_CGM_DATA</th>\n",
       "      <td>True</td>\n",
       "      <td>True</td>\n",
       "      <td>True</td>\n",
       "      <td>True</td>\n",
       "      <td>True</td>\n",
       "      <td>True</td>\n",
       "      <td>True</td>\n",
       "      <td>True</td>\n",
       "      <td>True</td>\n",
       "      <td>True</td>\n",
       "    </tr>\n",
       "    <tr>\n",
       "      <th>HAS_REMOTE_INSULIN_DATA</th>\n",
       "      <td>True</td>\n",
       "      <td>True</td>\n",
       "      <td>True</td>\n",
       "      <td>True</td>\n",
       "      <td>True</td>\n",
       "      <td>True</td>\n",
       "      <td>True</td>\n",
       "      <td>True</td>\n",
       "      <td>True</td>\n",
       "      <td>True</td>\n",
       "    </tr>\n",
       "    <tr>\n",
       "      <th>HAS_IN_CLINIC_SYNC</th>\n",
       "      <td>False</td>\n",
       "      <td>False</td>\n",
       "      <td>False</td>\n",
       "      <td>False</td>\n",
       "      <td>False</td>\n",
       "      <td>False</td>\n",
       "      <td>False</td>\n",
       "      <td>False</td>\n",
       "      <td>False</td>\n",
       "      <td>False</td>\n",
       "    </tr>\n",
       "    <tr>\n",
       "      <th>GRI_HYPO</th>\n",
       "      <td>0.0</td>\n",
       "      <td>0.0</td>\n",
       "      <td>0.0</td>\n",
       "      <td>0.0</td>\n",
       "      <td>0.0</td>\n",
       "      <td>0.0</td>\n",
       "      <td>0.0</td>\n",
       "      <td>0.56</td>\n",
       "      <td>0.0</td>\n",
       "      <td>0.0</td>\n",
       "    </tr>\n",
       "    <tr>\n",
       "      <th>GRI_HYPER</th>\n",
       "      <td>53.475</td>\n",
       "      <td>63.02</td>\n",
       "      <td>74.13</td>\n",
       "      <td>40.105</td>\n",
       "      <td>29.69</td>\n",
       "      <td>63.195</td>\n",
       "      <td>89.38</td>\n",
       "      <td>65.505</td>\n",
       "      <td>68.055</td>\n",
       "      <td>46.525</td>\n",
       "    </tr>\n",
       "    <tr>\n",
       "      <th>GRI</th>\n",
       "      <td>85.56</td>\n",
       "      <td>100.832</td>\n",
       "      <td>118.608</td>\n",
       "      <td>64.168</td>\n",
       "      <td>47.504</td>\n",
       "      <td>101.112</td>\n",
       "      <td>143.008</td>\n",
       "      <td>106.488</td>\n",
       "      <td>108.888</td>\n",
       "      <td>74.44</td>\n",
       "    </tr>\n",
       "  </tbody>\n",
       "</table>\n",
       "</div>"
      ],
      "text/plain": [
       "                              3828        4419        11018       15663  \\\n",
       "Unnamed: 0                     3828        4419       11018       15663   \n",
       "USER_ID                           0           0           0           0   \n",
       "TIME_CGM_ACTIVE                 1.0         1.0         1.0         1.0   \n",
       "AVERAGE_VALUE              218.4375  241.354167  257.315972  199.736111   \n",
       "READING_COUNT                   288         288         288         288   \n",
       "ABOVE_180                     82.99       88.54       83.68       55.56   \n",
       "ABOVE_250                     23.96        37.5       64.58       24.65   \n",
       "ABOVE_400                       0.0         0.0         0.0         0.0   \n",
       "BELOW_50                        0.0         0.0         0.0         0.0   \n",
       "BELOW_54                        0.0         0.0         0.0         0.0   \n",
       "BELOW_60                        0.0         0.0         0.0         0.0   \n",
       "BELOW_70                        0.0         0.0         0.0         0.0   \n",
       "LOWEST_VALUE                  143.0       114.0        73.0       110.0   \n",
       "HIGHEST_VALUE                 296.0       383.0       372.0       308.0   \n",
       "DATE                     2021-04-01  2021-04-02  2021-04-03  2021-04-04   \n",
       "TOTAL_INSULIN                 22.15       22.45        22.5        20.2   \n",
       "TOTAL_BASAL                    18.0        15.7        18.0        18.0   \n",
       "TOTAL_BOLUS                    4.15        6.75         4.5         2.2   \n",
       "HAS_REMOTE_SMBG_DATA          False       False       False       False   \n",
       "HAS_REMOTE_CGM_DATA            True        True        True        True   \n",
       "HAS_REMOTE_INSULIN_DATA        True        True        True        True   \n",
       "HAS_IN_CLINIC_SYNC            False       False       False       False   \n",
       "GRI_HYPO                        0.0         0.0         0.0         0.0   \n",
       "GRI_HYPER                    53.475       63.02       74.13      40.105   \n",
       "GRI                           85.56     100.832     118.608      64.168   \n",
       "\n",
       "                              18285       20938       27770       31927  \\\n",
       "Unnamed: 0                    18285       20938       27770       31927   \n",
       "USER_ID                           0           0           0           0   \n",
       "TIME_CGM_ACTIVE                 1.0         1.0    0.899306    0.996528   \n",
       "AVERAGE_VALUE            192.989583  242.006944  304.602317  231.735192   \n",
       "READING_COUNT                   288         288         259         287   \n",
       "ABOVE_180                     59.38       70.83       100.0       74.22   \n",
       "ABOVE_250                       0.0       55.56       78.76       56.79   \n",
       "ABOVE_400                       0.0         0.0        0.39         0.0   \n",
       "BELOW_50                        0.0         0.0         0.0         0.0   \n",
       "BELOW_54                        0.0         0.0         0.0         0.0   \n",
       "BELOW_60                        0.0         0.0         0.0         0.0   \n",
       "BELOW_70                        0.0         0.0         0.0         0.7   \n",
       "LOWEST_VALUE                  127.0       158.0       225.0        68.0   \n",
       "HIGHEST_VALUE                 250.0       325.0       401.0       324.0   \n",
       "DATE                     2021-04-05  2021-04-06  2021-04-07  2021-04-08   \n",
       "TOTAL_INSULIN                  20.2        20.2        29.0        21.3   \n",
       "TOTAL_BASAL                    18.0        16.6       19.75        18.0   \n",
       "TOTAL_BOLUS                     2.2         3.6        9.25         3.3   \n",
       "HAS_REMOTE_SMBG_DATA          False       False       False       False   \n",
       "HAS_REMOTE_CGM_DATA            True        True        True        True   \n",
       "HAS_REMOTE_INSULIN_DATA        True        True        True        True   \n",
       "HAS_IN_CLINIC_SYNC            False       False       False       False   \n",
       "GRI_HYPO                        0.0         0.0         0.0        0.56   \n",
       "GRI_HYPER                     29.69      63.195       89.38      65.505   \n",
       "GRI                          47.504     101.112     143.008     106.488   \n",
       "\n",
       "                              35205       39760  \n",
       "Unnamed: 0                    35205       39760  \n",
       "USER_ID                           0           0  \n",
       "TIME_CGM_ACTIVE                 1.0         1.0  \n",
       "AVERAGE_VALUE            238.920139   211.03125  \n",
       "READING_COUNT                   288         288  \n",
       "ABOVE_180                      87.5       67.36  \n",
       "ABOVE_250                     48.61       25.69  \n",
       "ABOVE_400                       0.0         0.0  \n",
       "BELOW_50                        0.0         0.0  \n",
       "BELOW_54                        0.0         0.0  \n",
       "BELOW_60                        0.0         0.0  \n",
       "BELOW_70                        0.0         0.0  \n",
       "LOWEST_VALUE                   80.0       114.0  \n",
       "HIGHEST_VALUE                 323.0       322.0  \n",
       "DATE                     2021-04-09  2021-04-10  \n",
       "TOTAL_INSULIN                 24.75       21.25  \n",
       "TOTAL_BASAL                    20.9        18.0  \n",
       "TOTAL_BOLUS                    3.85        3.25  \n",
       "HAS_REMOTE_SMBG_DATA          False       False  \n",
       "HAS_REMOTE_CGM_DATA            True        True  \n",
       "HAS_REMOTE_INSULIN_DATA        True        True  \n",
       "HAS_IN_CLINIC_SYNC            False       False  \n",
       "GRI_HYPO                        0.0         0.0  \n",
       "GRI_HYPER                    68.055      46.525  \n",
       "GRI                         108.888       74.44  "
      ]
     },
     "execution_count": 102,
     "metadata": {},
     "output_type": "execute_result"
    }
   ],
   "source": [
    "# sort values by USER_ID and DATE\n",
    "users_ds_df.sort_values(by=['USER_ID','DATE'], inplace=True)\n",
    "users_ds_df.head(10).T"
   ]
  },
  {
   "cell_type": "code",
   "execution_count": 103,
   "id": "3343b2b9",
   "metadata": {},
   "outputs": [
    {
     "data": {
      "text/html": [
       "<div>\n",
       "<style scoped>\n",
       "    .dataframe tbody tr th:only-of-type {\n",
       "        vertical-align: middle;\n",
       "    }\n",
       "\n",
       "    .dataframe tbody tr th {\n",
       "        vertical-align: top;\n",
       "    }\n",
       "\n",
       "    .dataframe thead th {\n",
       "        text-align: right;\n",
       "    }\n",
       "</style>\n",
       "<table border=\"1\" class=\"dataframe\">\n",
       "  <thead>\n",
       "    <tr style=\"text-align: right;\">\n",
       "      <th></th>\n",
       "      <th>LOWEST_VALUE</th>\n",
       "      <th>HIGHEST_VALUE</th>\n",
       "    </tr>\n",
       "  </thead>\n",
       "  <tbody>\n",
       "    <tr>\n",
       "      <th>count</th>\n",
       "      <td>375830.000000</td>\n",
       "      <td>375830.00000</td>\n",
       "    </tr>\n",
       "    <tr>\n",
       "      <th>mean</th>\n",
       "      <td>74.545346</td>\n",
       "      <td>266.64763</td>\n",
       "    </tr>\n",
       "    <tr>\n",
       "      <th>std</th>\n",
       "      <td>27.175515</td>\n",
       "      <td>66.25717</td>\n",
       "    </tr>\n",
       "    <tr>\n",
       "      <th>min</th>\n",
       "      <td>39.000000</td>\n",
       "      <td>39.00000</td>\n",
       "    </tr>\n",
       "    <tr>\n",
       "      <th>25%</th>\n",
       "      <td>57.000000</td>\n",
       "      <td>217.00000</td>\n",
       "    </tr>\n",
       "    <tr>\n",
       "      <th>50%</th>\n",
       "      <td>69.000000</td>\n",
       "      <td>260.00000</td>\n",
       "    </tr>\n",
       "    <tr>\n",
       "      <th>75%</th>\n",
       "      <td>86.000000</td>\n",
       "      <td>311.00000</td>\n",
       "    </tr>\n",
       "    <tr>\n",
       "      <th>max</th>\n",
       "      <td>401.000000</td>\n",
       "      <td>401.00000</td>\n",
       "    </tr>\n",
       "  </tbody>\n",
       "</table>\n",
       "</div>"
      ],
      "text/plain": [
       "        LOWEST_VALUE  HIGHEST_VALUE\n",
       "count  375830.000000   375830.00000\n",
       "mean       74.545346      266.64763\n",
       "std        27.175515       66.25717\n",
       "min        39.000000       39.00000\n",
       "25%        57.000000      217.00000\n",
       "50%        69.000000      260.00000\n",
       "75%        86.000000      311.00000\n",
       "max       401.000000      401.00000"
      ]
     },
     "execution_count": 103,
     "metadata": {},
     "output_type": "execute_result"
    }
   ],
   "source": [
    "users_ds_df[[\"LOWEST_VALUE\",\"HIGHEST_VALUE\"]].describe()"
   ]
  },
  {
   "cell_type": "markdown",
   "id": "08f65369",
   "metadata": {},
   "source": [
    "We also need to create the test (prediction) variables. We will use the average GRI for last 14 days and the average GRI for the next (future) 14 days. Note that the GRI has a notable amount of variation day-to-day, which is why we will be using average values to get a sense of either 'improvement' or 'worsening' of glycemic risk on a longer time scale. "
   ]
  },
  {
   "cell_type": "code",
   "execution_count": 104,
   "id": "7ec3b5a7",
   "metadata": {},
   "outputs": [
    {
     "data": {
      "text/html": [
       "<div>\n",
       "<style scoped>\n",
       "    .dataframe tbody tr th:only-of-type {\n",
       "        vertical-align: middle;\n",
       "    }\n",
       "\n",
       "    .dataframe tbody tr th {\n",
       "        vertical-align: top;\n",
       "    }\n",
       "\n",
       "    .dataframe thead th {\n",
       "        text-align: right;\n",
       "    }\n",
       "</style>\n",
       "<table border=\"1\" class=\"dataframe\">\n",
       "  <thead>\n",
       "    <tr style=\"text-align: right;\">\n",
       "      <th></th>\n",
       "      <th>DATE</th>\n",
       "      <th>GRI</th>\n",
       "    </tr>\n",
       "  </thead>\n",
       "  <tbody>\n",
       "    <tr>\n",
       "      <th>3828</th>\n",
       "      <td>2021-04-01</td>\n",
       "      <td>85.560</td>\n",
       "    </tr>\n",
       "    <tr>\n",
       "      <th>4419</th>\n",
       "      <td>2021-04-02</td>\n",
       "      <td>100.832</td>\n",
       "    </tr>\n",
       "    <tr>\n",
       "      <th>11018</th>\n",
       "      <td>2021-04-03</td>\n",
       "      <td>118.608</td>\n",
       "    </tr>\n",
       "    <tr>\n",
       "      <th>15663</th>\n",
       "      <td>2021-04-04</td>\n",
       "      <td>64.168</td>\n",
       "    </tr>\n",
       "    <tr>\n",
       "      <th>18285</th>\n",
       "      <td>2021-04-05</td>\n",
       "      <td>47.504</td>\n",
       "    </tr>\n",
       "    <tr>\n",
       "      <th>20938</th>\n",
       "      <td>2021-04-06</td>\n",
       "      <td>101.112</td>\n",
       "    </tr>\n",
       "    <tr>\n",
       "      <th>27770</th>\n",
       "      <td>2021-04-07</td>\n",
       "      <td>143.008</td>\n",
       "    </tr>\n",
       "    <tr>\n",
       "      <th>31927</th>\n",
       "      <td>2021-04-08</td>\n",
       "      <td>106.488</td>\n",
       "    </tr>\n",
       "    <tr>\n",
       "      <th>35205</th>\n",
       "      <td>2021-04-09</td>\n",
       "      <td>108.888</td>\n",
       "    </tr>\n",
       "    <tr>\n",
       "      <th>39760</th>\n",
       "      <td>2021-04-10</td>\n",
       "      <td>74.440</td>\n",
       "    </tr>\n",
       "    <tr>\n",
       "      <th>45270</th>\n",
       "      <td>2021-04-11</td>\n",
       "      <td>114.728</td>\n",
       "    </tr>\n",
       "    <tr>\n",
       "      <th>45880</th>\n",
       "      <td>2021-04-12</td>\n",
       "      <td>95.280</td>\n",
       "    </tr>\n",
       "    <tr>\n",
       "      <th>49751</th>\n",
       "      <td>2021-04-13</td>\n",
       "      <td>109.448</td>\n",
       "    </tr>\n",
       "    <tr>\n",
       "      <th>54032</th>\n",
       "      <td>2021-04-14</td>\n",
       "      <td>105.832</td>\n",
       "    </tr>\n",
       "    <tr>\n",
       "      <th>59229</th>\n",
       "      <td>2021-04-15</td>\n",
       "      <td>102.776</td>\n",
       "    </tr>\n",
       "    <tr>\n",
       "      <th>64875</th>\n",
       "      <td>2021-04-16</td>\n",
       "      <td>75.560</td>\n",
       "    </tr>\n",
       "    <tr>\n",
       "      <th>67948</th>\n",
       "      <td>2021-04-17</td>\n",
       "      <td>20.688</td>\n",
       "    </tr>\n",
       "    <tr>\n",
       "      <th>72719</th>\n",
       "      <td>2021-04-18</td>\n",
       "      <td>39.712</td>\n",
       "    </tr>\n",
       "    <tr>\n",
       "      <th>76365</th>\n",
       "      <td>2021-04-19</td>\n",
       "      <td>33.328</td>\n",
       "    </tr>\n",
       "    <tr>\n",
       "      <th>79754</th>\n",
       "      <td>2021-04-20</td>\n",
       "      <td>36.392</td>\n",
       "    </tr>\n",
       "  </tbody>\n",
       "</table>\n",
       "</div>"
      ],
      "text/plain": [
       "             DATE      GRI\n",
       "3828   2021-04-01   85.560\n",
       "4419   2021-04-02  100.832\n",
       "11018  2021-04-03  118.608\n",
       "15663  2021-04-04   64.168\n",
       "18285  2021-04-05   47.504\n",
       "20938  2021-04-06  101.112\n",
       "27770  2021-04-07  143.008\n",
       "31927  2021-04-08  106.488\n",
       "35205  2021-04-09  108.888\n",
       "39760  2021-04-10   74.440\n",
       "45270  2021-04-11  114.728\n",
       "45880  2021-04-12   95.280\n",
       "49751  2021-04-13  109.448\n",
       "54032  2021-04-14  105.832\n",
       "59229  2021-04-15  102.776\n",
       "64875  2021-04-16   75.560\n",
       "67948  2021-04-17   20.688\n",
       "72719  2021-04-18   39.712\n",
       "76365  2021-04-19   33.328\n",
       "79754  2021-04-20   36.392"
      ]
     },
     "execution_count": 104,
     "metadata": {},
     "output_type": "execute_result"
    }
   ],
   "source": [
    "users_ds_df[['DATE','GRI']].head(20)"
   ]
  },
  {
   "cell_type": "code",
   "execution_count": 105,
   "id": "7d397938",
   "metadata": {},
   "outputs": [],
   "source": [
    "users_ds_df['GRI_PAST_2WK'] = users_ds_df['GRI'].rolling(\n",
    "                                14).mean()\n",
    "indexer = pd.api.indexers.FixedForwardWindowIndexer(window_size=7)\n",
    "users_ds_df['GRI_FUTURE_1WK'] = users_ds_df['GRI'].rolling(\n",
    "                    window=indexer, min_periods=1).mean()\n",
    "indexer2 = pd.api.indexers.FixedForwardWindowIndexer(window_size=14)\n",
    "users_ds_df['GRI_FUTURE_2WK'] = users_ds_df['GRI'].rolling(\n",
    "                    window=indexer2, min_periods=1).mean()"
   ]
  },
  {
   "cell_type": "code",
   "execution_count": 106,
   "id": "2e443e1f",
   "metadata": {},
   "outputs": [
    {
     "data": {
      "text/html": [
       "<div>\n",
       "<style scoped>\n",
       "    .dataframe tbody tr th:only-of-type {\n",
       "        vertical-align: middle;\n",
       "    }\n",
       "\n",
       "    .dataframe tbody tr th {\n",
       "        vertical-align: top;\n",
       "    }\n",
       "\n",
       "    .dataframe thead th {\n",
       "        text-align: right;\n",
       "    }\n",
       "</style>\n",
       "<table border=\"1\" class=\"dataframe\">\n",
       "  <thead>\n",
       "    <tr style=\"text-align: right;\">\n",
       "      <th></th>\n",
       "      <th>DATE</th>\n",
       "      <th>GRI</th>\n",
       "      <th>GRI_PAST_2WK</th>\n",
       "      <th>GRI_FUTURE_1WK</th>\n",
       "      <th>GRI_FUTURE_2WK</th>\n",
       "    </tr>\n",
       "  </thead>\n",
       "  <tbody>\n",
       "    <tr>\n",
       "      <th>3828</th>\n",
       "      <td>2021-04-01</td>\n",
       "      <td>85.560</td>\n",
       "      <td>NaN</td>\n",
       "      <td>94.398857</td>\n",
       "      <td>98.278286</td>\n",
       "    </tr>\n",
       "    <tr>\n",
       "      <th>4419</th>\n",
       "      <td>2021-04-02</td>\n",
       "      <td>100.832</td>\n",
       "      <td>NaN</td>\n",
       "      <td>97.388571</td>\n",
       "      <td>99.508000</td>\n",
       "    </tr>\n",
       "    <tr>\n",
       "      <th>11018</th>\n",
       "      <td>2021-04-03</td>\n",
       "      <td>118.608</td>\n",
       "      <td>NaN</td>\n",
       "      <td>98.539429</td>\n",
       "      <td>97.702857</td>\n",
       "    </tr>\n",
       "    <tr>\n",
       "      <th>15663</th>\n",
       "      <td>2021-04-04</td>\n",
       "      <td>64.168</td>\n",
       "      <td>NaN</td>\n",
       "      <td>92.229714</td>\n",
       "      <td>90.708571</td>\n",
       "    </tr>\n",
       "    <tr>\n",
       "      <th>18285</th>\n",
       "      <td>2021-04-05</td>\n",
       "      <td>47.504</td>\n",
       "      <td>NaN</td>\n",
       "      <td>99.452571</td>\n",
       "      <td>88.961714</td>\n",
       "    </tr>\n",
       "    <tr>\n",
       "      <th>20938</th>\n",
       "      <td>2021-04-06</td>\n",
       "      <td>101.112</td>\n",
       "      <td>NaN</td>\n",
       "      <td>106.277714</td>\n",
       "      <td>87.949143</td>\n",
       "    </tr>\n",
       "    <tr>\n",
       "      <th>27770</th>\n",
       "      <td>2021-04-07</td>\n",
       "      <td>143.008</td>\n",
       "      <td>NaN</td>\n",
       "      <td>107.468571</td>\n",
       "      <td>83.326286</td>\n",
       "    </tr>\n",
       "    <tr>\n",
       "      <th>31927</th>\n",
       "      <td>2021-04-08</td>\n",
       "      <td>106.488</td>\n",
       "      <td>NaN</td>\n",
       "      <td>102.157714</td>\n",
       "      <td>74.301714</td>\n",
       "    </tr>\n",
       "    <tr>\n",
       "      <th>35205</th>\n",
       "      <td>2021-04-09</td>\n",
       "      <td>108.888</td>\n",
       "      <td>NaN</td>\n",
       "      <td>101.627429</td>\n",
       "      <td>67.211429</td>\n",
       "    </tr>\n",
       "    <tr>\n",
       "      <th>39760</th>\n",
       "      <td>2021-04-10</td>\n",
       "      <td>74.440</td>\n",
       "      <td>NaN</td>\n",
       "      <td>96.866286</td>\n",
       "      <td>62.509143</td>\n",
       "    </tr>\n",
       "    <tr>\n",
       "      <th>45270</th>\n",
       "      <td>2021-04-11</td>\n",
       "      <td>114.728</td>\n",
       "      <td>NaN</td>\n",
       "      <td>89.187429</td>\n",
       "      <td>63.005714</td>\n",
       "    </tr>\n",
       "    <tr>\n",
       "      <th>45880</th>\n",
       "      <td>2021-04-12</td>\n",
       "      <td>95.280</td>\n",
       "      <td>NaN</td>\n",
       "      <td>78.470857</td>\n",
       "      <td>62.767429</td>\n",
       "    </tr>\n",
       "    <tr>\n",
       "      <th>49751</th>\n",
       "      <td>2021-04-13</td>\n",
       "      <td>109.448</td>\n",
       "      <td>NaN</td>\n",
       "      <td>69.620571</td>\n",
       "      <td>60.445714</td>\n",
       "    </tr>\n",
       "    <tr>\n",
       "      <th>54032</th>\n",
       "      <td>2021-04-14</td>\n",
       "      <td>105.832</td>\n",
       "      <td>98.278286</td>\n",
       "      <td>59.184000</td>\n",
       "      <td>54.684000</td>\n",
       "    </tr>\n",
       "    <tr>\n",
       "      <th>59229</th>\n",
       "      <td>2021-04-15</td>\n",
       "      <td>102.776</td>\n",
       "      <td>99.508000</td>\n",
       "      <td>46.445714</td>\n",
       "      <td>50.438286</td>\n",
       "    </tr>\n",
       "    <tr>\n",
       "      <th>64875</th>\n",
       "      <td>2021-04-16</td>\n",
       "      <td>75.560</td>\n",
       "      <td>97.702857</td>\n",
       "      <td>32.795429</td>\n",
       "      <td>46.548571</td>\n",
       "    </tr>\n",
       "    <tr>\n",
       "      <th>67948</th>\n",
       "      <td>2021-04-17</td>\n",
       "      <td>20.688</td>\n",
       "      <td>90.708571</td>\n",
       "      <td>28.152000</td>\n",
       "      <td>43.533143</td>\n",
       "    </tr>\n",
       "    <tr>\n",
       "      <th>72719</th>\n",
       "      <td>2021-04-18</td>\n",
       "      <td>39.712</td>\n",
       "      <td>88.961714</td>\n",
       "      <td>36.824000</td>\n",
       "      <td>45.249714</td>\n",
       "    </tr>\n",
       "    <tr>\n",
       "      <th>76365</th>\n",
       "      <td>2021-04-19</td>\n",
       "      <td>33.328</td>\n",
       "      <td>87.949143</td>\n",
       "      <td>47.064000</td>\n",
       "      <td>47.829714</td>\n",
       "    </tr>\n",
       "    <tr>\n",
       "      <th>79754</th>\n",
       "      <td>2021-04-20</td>\n",
       "      <td>36.392</td>\n",
       "      <td>83.326286</td>\n",
       "      <td>51.270857</td>\n",
       "      <td>46.699429</td>\n",
       "    </tr>\n",
       "  </tbody>\n",
       "</table>\n",
       "</div>"
      ],
      "text/plain": [
       "             DATE      GRI  GRI_PAST_2WK  GRI_FUTURE_1WK  GRI_FUTURE_2WK\n",
       "3828   2021-04-01   85.560           NaN       94.398857       98.278286\n",
       "4419   2021-04-02  100.832           NaN       97.388571       99.508000\n",
       "11018  2021-04-03  118.608           NaN       98.539429       97.702857\n",
       "15663  2021-04-04   64.168           NaN       92.229714       90.708571\n",
       "18285  2021-04-05   47.504           NaN       99.452571       88.961714\n",
       "20938  2021-04-06  101.112           NaN      106.277714       87.949143\n",
       "27770  2021-04-07  143.008           NaN      107.468571       83.326286\n",
       "31927  2021-04-08  106.488           NaN      102.157714       74.301714\n",
       "35205  2021-04-09  108.888           NaN      101.627429       67.211429\n",
       "39760  2021-04-10   74.440           NaN       96.866286       62.509143\n",
       "45270  2021-04-11  114.728           NaN       89.187429       63.005714\n",
       "45880  2021-04-12   95.280           NaN       78.470857       62.767429\n",
       "49751  2021-04-13  109.448           NaN       69.620571       60.445714\n",
       "54032  2021-04-14  105.832     98.278286       59.184000       54.684000\n",
       "59229  2021-04-15  102.776     99.508000       46.445714       50.438286\n",
       "64875  2021-04-16   75.560     97.702857       32.795429       46.548571\n",
       "67948  2021-04-17   20.688     90.708571       28.152000       43.533143\n",
       "72719  2021-04-18   39.712     88.961714       36.824000       45.249714\n",
       "76365  2021-04-19   33.328     87.949143       47.064000       47.829714\n",
       "79754  2021-04-20   36.392     83.326286       51.270857       46.699429"
      ]
     },
     "execution_count": 106,
     "metadata": {},
     "output_type": "execute_result"
    }
   ],
   "source": [
    "users_ds_df[['DATE','GRI','GRI_PAST_2WK','GRI_FUTURE_1WK','GRI_FUTURE_2WK']].head(20)"
   ]
  },
  {
   "cell_type": "code",
   "execution_count": 107,
   "id": "d2d738b7",
   "metadata": {},
   "outputs": [
    {
     "data": {
      "text/html": [
       "<div>\n",
       "<style scoped>\n",
       "    .dataframe tbody tr th:only-of-type {\n",
       "        vertical-align: middle;\n",
       "    }\n",
       "\n",
       "    .dataframe tbody tr th {\n",
       "        vertical-align: top;\n",
       "    }\n",
       "\n",
       "    .dataframe thead th {\n",
       "        text-align: right;\n",
       "    }\n",
       "</style>\n",
       "<table border=\"1\" class=\"dataframe\">\n",
       "  <thead>\n",
       "    <tr style=\"text-align: right;\">\n",
       "      <th></th>\n",
       "      <th>TIME_CGM_ACTIVE</th>\n",
       "      <th>AVERAGE_VALUE</th>\n",
       "      <th>DATE</th>\n",
       "      <th>GRI_HYPO</th>\n",
       "      <th>GRI_HYPER</th>\n",
       "      <th>GRI</th>\n",
       "    </tr>\n",
       "  </thead>\n",
       "  <tbody>\n",
       "    <tr>\n",
       "      <th>7</th>\n",
       "      <td>1.000000</td>\n",
       "      <td>226.468750</td>\n",
       "      <td>2021-04-01</td>\n",
       "      <td>0.000</td>\n",
       "      <td>54.685</td>\n",
       "      <td>87.496</td>\n",
       "    </tr>\n",
       "    <tr>\n",
       "      <th>8185</th>\n",
       "      <td>0.906250</td>\n",
       "      <td>205.015326</td>\n",
       "      <td>2021-04-02</td>\n",
       "      <td>0.000</td>\n",
       "      <td>38.890</td>\n",
       "      <td>62.224</td>\n",
       "    </tr>\n",
       "    <tr>\n",
       "      <th>10716</th>\n",
       "      <td>1.000000</td>\n",
       "      <td>217.815972</td>\n",
       "      <td>2021-04-03</td>\n",
       "      <td>0.000</td>\n",
       "      <td>48.785</td>\n",
       "      <td>78.056</td>\n",
       "    </tr>\n",
       "    <tr>\n",
       "      <th>12841</th>\n",
       "      <td>1.000000</td>\n",
       "      <td>216.138889</td>\n",
       "      <td>2021-04-04</td>\n",
       "      <td>0.000</td>\n",
       "      <td>52.255</td>\n",
       "      <td>83.608</td>\n",
       "    </tr>\n",
       "    <tr>\n",
       "      <th>20569</th>\n",
       "      <td>1.000000</td>\n",
       "      <td>254.333333</td>\n",
       "      <td>2021-04-05</td>\n",
       "      <td>0.000</td>\n",
       "      <td>68.055</td>\n",
       "      <td>108.888</td>\n",
       "    </tr>\n",
       "    <tr>\n",
       "      <th>24205</th>\n",
       "      <td>0.972222</td>\n",
       "      <td>269.664286</td>\n",
       "      <td>2021-04-06</td>\n",
       "      <td>0.000</td>\n",
       "      <td>83.035</td>\n",
       "      <td>132.856</td>\n",
       "    </tr>\n",
       "    <tr>\n",
       "      <th>25602</th>\n",
       "      <td>0.993056</td>\n",
       "      <td>181.356643</td>\n",
       "      <td>2021-04-07</td>\n",
       "      <td>0.280</td>\n",
       "      <td>34.265</td>\n",
       "      <td>55.664</td>\n",
       "    </tr>\n",
       "    <tr>\n",
       "      <th>30774</th>\n",
       "      <td>1.000000</td>\n",
       "      <td>173.694444</td>\n",
       "      <td>2021-04-08</td>\n",
       "      <td>1.112</td>\n",
       "      <td>28.125</td>\n",
       "      <td>48.336</td>\n",
       "    </tr>\n",
       "    <tr>\n",
       "      <th>37067</th>\n",
       "      <td>0.972222</td>\n",
       "      <td>184.275000</td>\n",
       "      <td>2021-04-09</td>\n",
       "      <td>0.000</td>\n",
       "      <td>35.535</td>\n",
       "      <td>56.856</td>\n",
       "    </tr>\n",
       "    <tr>\n",
       "      <th>39937</th>\n",
       "      <td>0.972222</td>\n",
       "      <td>179.328571</td>\n",
       "      <td>2021-04-10</td>\n",
       "      <td>0.000</td>\n",
       "      <td>31.425</td>\n",
       "      <td>50.280</td>\n",
       "    </tr>\n",
       "  </tbody>\n",
       "</table>\n",
       "</div>"
      ],
      "text/plain": [
       "       TIME_CGM_ACTIVE  AVERAGE_VALUE        DATE  GRI_HYPO  GRI_HYPER  \\\n",
       "7             1.000000     226.468750  2021-04-01     0.000     54.685   \n",
       "8185          0.906250     205.015326  2021-04-02     0.000     38.890   \n",
       "10716         1.000000     217.815972  2021-04-03     0.000     48.785   \n",
       "12841         1.000000     216.138889  2021-04-04     0.000     52.255   \n",
       "20569         1.000000     254.333333  2021-04-05     0.000     68.055   \n",
       "24205         0.972222     269.664286  2021-04-06     0.000     83.035   \n",
       "25602         0.993056     181.356643  2021-04-07     0.280     34.265   \n",
       "30774         1.000000     173.694444  2021-04-08     1.112     28.125   \n",
       "37067         0.972222     184.275000  2021-04-09     0.000     35.535   \n",
       "39937         0.972222     179.328571  2021-04-10     0.000     31.425   \n",
       "\n",
       "           GRI  \n",
       "7       87.496  \n",
       "8185    62.224  \n",
       "10716   78.056  \n",
       "12841   83.608  \n",
       "20569  108.888  \n",
       "24205  132.856  \n",
       "25602   55.664  \n",
       "30774   48.336  \n",
       "37067   56.856  \n",
       "39937   50.280  "
      ]
     },
     "execution_count": 107,
     "metadata": {},
     "output_type": "execute_result"
    }
   ],
   "source": [
    "users_ds_df[['TIME_CGM_ACTIVE','AVERAGE_VALUE','DATE',\n",
    "             'GRI_HYPO','GRI_HYPER','GRI']\n",
    "           ][users_ds_df['USER_ID'] == 4036\n",
    "            ].head(10)"
   ]
  },
  {
   "cell_type": "code",
   "execution_count": 108,
   "id": "aebfb69c",
   "metadata": {},
   "outputs": [
    {
     "data": {
      "image/png": "[encoded data removed]",
      "text/plain": [
       "<Figure size 432x288 with 1 Axes>"
      ]
     },
     "metadata": {},
     "output_type": "display_data"
    }
   ],
   "source": [
    "user_num = 900\n",
    "single_user = users_ds_df[users_ds_df['USER_ID'] == user_num].sort_values(by=\"DATE\")\n",
    "single_user = single_user.set_index(single_user[\"DATE\"])\n",
    "sns.lineplot(data=single_user[[\n",
    "    \"GRI\",\"GRI_PAST_2WK\",\"GRI_FUTURE_2WK\"]].iloc[14:45]);\n",
    "plt.xticks(rotation=45);\n",
    "plt.ylabel(\"GRI\");"
   ]
  },
  {
   "cell_type": "markdown",
   "id": "edcdc0c9",
   "metadata": {},
   "source": [
    "The figure above shows how the GRI variables (daily, and 2-week past and future averages) change over a month-long period."
   ]
  },
  {
   "cell_type": "markdown",
   "id": "83acf68e",
   "metadata": {},
   "source": [
    "The figure below shows that for each of the days listed, every user in the dataset (a total of 4130 users) have data."
   ]
  },
  {
   "cell_type": "code",
   "execution_count": 109,
   "id": "0835167b",
   "metadata": {},
   "outputs": [
    {
     "data": {
      "image/png": "[encoded data removed]",
      "text/plain": [
       "<Figure size 432x288 with 1 Axes>"
      ]
     },
     "metadata": {},
     "output_type": "display_data"
    }
   ],
   "source": [
    "plt.hist(users_ds_df['DATE'][users_ds_df['DATE'] <= '2021-04-14'], bins=14)\n",
    "plt.xticks(rotation=45);"
   ]
  },
  {
   "cell_type": "code",
   "execution_count": 110,
   "id": "564a46f1",
   "metadata": {},
   "outputs": [
    {
     "data": {
      "image/png": "[encoded data removed]",
      "text/plain": [
       "<Figure size 432x288 with 1 Axes>"
      ]
     },
     "metadata": {},
     "output_type": "display_data"
    }
   ],
   "source": [
    "plt.hist(users_ds_df['GRI_FUTURE_2WK'][users_ds_df['DATE'] == '2021-04-14']);"
   ]
  },
  {
   "cell_type": "markdown",
   "id": "de722f73",
   "metadata": {},
   "source": [
    "The figure above shows the distribution of future 2-week average GRI for every user on a specific date. As shown below, the mean GRI is 39 and median is 36."
   ]
  },
  {
   "cell_type": "code",
   "execution_count": 111,
   "id": "884f2026",
   "metadata": {},
   "outputs": [
    {
     "data": {
      "text/plain": [
       "count    4130.000000\n",
       "mean       39.118552\n",
       "std        22.869756\n",
       "min         0.099429\n",
       "25%        22.390893\n",
       "50%        35.553286\n",
       "75%        51.138250\n",
       "max       152.405143\n",
       "Name: GRI_FUTURE_2WK, dtype: float64"
      ]
     },
     "execution_count": 111,
     "metadata": {},
     "output_type": "execute_result"
    }
   ],
   "source": [
    "users_ds_df['GRI_FUTURE_2WK'][users_ds_df['DATE'] == '2021-04-14'].describe()"
   ]
  },
  {
   "cell_type": "code",
   "execution_count": 112,
   "id": "529eb30c",
   "metadata": {},
   "outputs": [
    {
     "data": {
      "text/plain": [
       "1726"
      ]
     },
     "execution_count": 112,
     "metadata": {},
     "output_type": "execute_result"
    }
   ],
   "source": [
    "(users_ds_df['GRI_FUTURE_2WK'][users_ds_df['DATE'] == '2021-04-14'] > 40).sum()"
   ]
  },
  {
   "cell_type": "code",
   "execution_count": 113,
   "id": "4afef343",
   "metadata": {},
   "outputs": [
    {
     "data": {
      "text/plain": [
       "0.4179176755447942"
      ]
     },
     "execution_count": 113,
     "metadata": {},
     "output_type": "execute_result"
    }
   ],
   "source": [
    "1726/4130"
   ]
  },
  {
   "cell_type": "code",
   "execution_count": 114,
   "id": "f3fa8b07",
   "metadata": {},
   "outputs": [
    {
     "data": {
      "text/plain": [
       "1707"
      ]
     },
     "execution_count": 114,
     "metadata": {},
     "output_type": "execute_result"
    }
   ],
   "source": [
    "(users_ds_df['GRI_PAST_2WK'][users_ds_df['DATE'] == '2021-04-14'] > 40).sum()"
   ]
  },
  {
   "cell_type": "code",
   "execution_count": 115,
   "id": "540cc855",
   "metadata": {},
   "outputs": [
    {
     "data": {
      "text/plain": [
       "1455"
      ]
     },
     "execution_count": 115,
     "metadata": {},
     "output_type": "execute_result"
    }
   ],
   "source": [
    "((users_ds_df['GRI_PAST_2WK'][users_ds_df['DATE'] == '2021-04-14'] > 40)\n",
    "& (users_ds_df['GRI_FUTURE_2WK'][users_ds_df['DATE'] == '2021-04-14'] > 40)).sum()"
   ]
  },
  {
   "cell_type": "code",
   "execution_count": 116,
   "id": "bd1758e4",
   "metadata": {},
   "outputs": [
    {
     "data": {
      "text/plain": [
       "271"
      ]
     },
     "execution_count": 116,
     "metadata": {},
     "output_type": "execute_result"
    }
   ],
   "source": [
    "((users_ds_df['GRI_PAST_2WK'][users_ds_df['DATE'] == '2021-04-14'] < 40)\n",
    "& (users_ds_df['GRI_FUTURE_2WK'][users_ds_df['DATE'] == '2021-04-14'] > 40)).sum()"
   ]
  },
  {
   "cell_type": "code",
   "execution_count": 117,
   "id": "541dd6d2",
   "metadata": {},
   "outputs": [],
   "source": [
    "users_go_over_thd = ((users_ds_df['GRI_PAST_2WK'][users_ds_df['DATE'] == '2021-04-14'] < 40)\n",
    "& (users_ds_df['GRI_FUTURE_2WK'][users_ds_df['DATE'] == '2021-04-14'] > 40)).reset_index()"
   ]
  },
  {
   "cell_type": "code",
   "execution_count": 118,
   "id": "7d71aa40",
   "metadata": {},
   "outputs": [
    {
     "data": {
      "text/plain": [
       "252"
      ]
     },
     "execution_count": 118,
     "metadata": {},
     "output_type": "execute_result"
    }
   ],
   "source": [
    "((users_ds_df['GRI_PAST_2WK'][users_ds_df['DATE'] == '2021-04-14'] > 40)\n",
    "& (users_ds_df['GRI_FUTURE_2WK'][users_ds_df['DATE'] == '2021-04-14'] < 40)).sum()"
   ]
  },
  {
   "cell_type": "code",
   "execution_count": 119,
   "id": "9b4477b8",
   "metadata": {},
   "outputs": [],
   "source": [
    "users_go_under_thd = ((users_ds_df['GRI_PAST_2WK'][users_ds_df['DATE'] == '2021-04-14'] > 40)\n",
    "& (users_ds_df['GRI_FUTURE_2WK'][users_ds_df['DATE'] == '2021-04-14'] < 40)).reset_index()"
   ]
  },
  {
   "cell_type": "code",
   "execution_count": 120,
   "id": "5302663e",
   "metadata": {},
   "outputs": [],
   "source": [
    "users_stay_over_thd = ((users_ds_df['GRI_PAST_2WK'][users_ds_df['DATE'] == '2021-04-14'] > 40)\n",
    "& (users_ds_df['GRI_FUTURE_2WK'][users_ds_df['DATE'] == '2021-04-14'] > 40)).reset_index()"
   ]
  },
  {
   "cell_type": "code",
   "execution_count": 121,
   "id": "890af779",
   "metadata": {},
   "outputs": [],
   "source": [
    "users_stay_under_thd = ((users_ds_df['GRI_PAST_2WK'][users_ds_df['DATE'] == '2021-04-14'] < 40)\n",
    "& (users_ds_df['GRI_FUTURE_2WK'][users_ds_df['DATE'] == '2021-04-14'] < 40)).reset_index()"
   ]
  },
  {
   "cell_type": "code",
   "execution_count": 122,
   "id": "1c7f79b8",
   "metadata": {},
   "outputs": [
    {
     "data": {
      "text/plain": [
       "0    False\n",
       "1    False\n",
       "2    False\n",
       "3     True\n",
       "4    False\n",
       "Name: 0, dtype: bool"
      ]
     },
     "execution_count": 122,
     "metadata": {},
     "output_type": "execute_result"
    }
   ],
   "source": [
    "users_stay_under_thd[0].head()"
   ]
  },
  {
   "cell_type": "code",
   "execution_count": 123,
   "id": "146f0497",
   "metadata": {},
   "outputs": [
    {
     "data": {
      "text/plain": [
       "2152"
      ]
     },
     "execution_count": 123,
     "metadata": {},
     "output_type": "execute_result"
    }
   ],
   "source": [
    "((users_ds_df['GRI_PAST_2WK'][users_ds_df['DATE'] == '2021-04-14'] < 40)\n",
    "& (users_ds_df['GRI_FUTURE_2WK'][users_ds_df['DATE'] == '2021-04-14'] < 40)).sum()"
   ]
  },
  {
   "cell_type": "code",
   "execution_count": 124,
   "id": "eef8fcb5",
   "metadata": {},
   "outputs": [
    {
     "data": {
      "text/plain": [
       "0.06561743341404358"
      ]
     },
     "execution_count": 124,
     "metadata": {},
     "output_type": "execute_result"
    }
   ],
   "source": [
    "271/4130"
   ]
  },
  {
   "cell_type": "code",
   "execution_count": 125,
   "id": "f510e983",
   "metadata": {},
   "outputs": [
    {
     "data": {
      "text/plain": [
       "count    271.000000\n",
       "mean      42.579336\n",
       "std       14.946577\n",
       "min       18.000000\n",
       "25%       31.000000\n",
       "50%       41.000000\n",
       "75%       54.000000\n",
       "max       83.000000\n",
       "Name: CURRENT_AGE, dtype: float64"
      ]
     },
     "execution_count": 125,
     "metadata": {},
     "output_type": "execute_result"
    }
   ],
   "source": [
    "users_info_df[\"CURRENT_AGE\"][users_go_over_thd[0]].describe()"
   ]
  },
  {
   "cell_type": "code",
   "execution_count": 126,
   "id": "f5436281",
   "metadata": {},
   "outputs": [
    {
     "data": {
      "text/plain": [
       "Index(['Unnamed: 0', 'USER_ID', 'TIME_CGM_ACTIVE', 'AVERAGE_VALUE',\n",
       "       'READING_COUNT', 'ABOVE_180', 'ABOVE_250', 'ABOVE_400', 'BELOW_50',\n",
       "       'BELOW_54', 'BELOW_60', 'BELOW_70', 'LOWEST_VALUE', 'HIGHEST_VALUE',\n",
       "       'DATE', 'TOTAL_INSULIN', 'TOTAL_BASAL', 'TOTAL_BOLUS',\n",
       "       'HAS_REMOTE_SMBG_DATA', 'HAS_REMOTE_CGM_DATA',\n",
       "       'HAS_REMOTE_INSULIN_DATA', 'HAS_IN_CLINIC_SYNC', 'GRI_HYPO',\n",
       "       'GRI_HYPER', 'GRI', 'GRI_PAST_2WK', 'GRI_FUTURE_1WK', 'GRI_FUTURE_2WK'],\n",
       "      dtype='object')"
      ]
     },
     "execution_count": 126,
     "metadata": {},
     "output_type": "execute_result"
    }
   ],
   "source": [
    "users_ds_df.columns"
   ]
  },
  {
   "cell_type": "code",
   "execution_count": 127,
   "id": "6a79fd6d",
   "metadata": {},
   "outputs": [],
   "source": [
    "dateChoice = '2021-04-14'\n",
    "# We select variables for a certain day, and then reset the index to the user_id\n",
    "# Note: the index is the user_id because the data was ordered by user_id (so we don't need to set it explicitly)\n",
    "X = users_ds_df[['TOTAL_INSULIN', 'TOTAL_BASAL', 'TOTAL_BOLUS',\n",
    "                'HAS_REMOTE_SMBG_DATA', 'HAS_REMOTE_CGM_DATA',\n",
    "                'HAS_REMOTE_INSULIN_DATA', 'HAS_IN_CLINIC_SYNC',\n",
    "                'GRI_FUTURE_2WK'\n",
    "                ]][users_ds_df['DATE'] == dateChoice] \\\n",
    "                .reset_index().drop(columns='index')"
   ]
  },
  {
   "cell_type": "code",
   "execution_count": 128,
   "id": "bbc73b51",
   "metadata": {},
   "outputs": [
    {
     "data": {
      "text/html": [
       "<div>\n",
       "<style scoped>\n",
       "    .dataframe tbody tr th:only-of-type {\n",
       "        vertical-align: middle;\n",
       "    }\n",
       "\n",
       "    .dataframe tbody tr th {\n",
       "        vertical-align: top;\n",
       "    }\n",
       "\n",
       "    .dataframe thead th {\n",
       "        text-align: right;\n",
       "    }\n",
       "</style>\n",
       "<table border=\"1\" class=\"dataframe\">\n",
       "  <thead>\n",
       "    <tr style=\"text-align: right;\">\n",
       "      <th></th>\n",
       "      <th>TOTAL_INSULIN</th>\n",
       "      <th>TOTAL_BASAL</th>\n",
       "      <th>TOTAL_BOLUS</th>\n",
       "      <th>HAS_REMOTE_SMBG_DATA</th>\n",
       "      <th>HAS_REMOTE_CGM_DATA</th>\n",
       "      <th>HAS_REMOTE_INSULIN_DATA</th>\n",
       "      <th>HAS_IN_CLINIC_SYNC</th>\n",
       "      <th>GRI_FUTURE_2WK</th>\n",
       "    </tr>\n",
       "  </thead>\n",
       "  <tbody>\n",
       "    <tr>\n",
       "      <th>0</th>\n",
       "      <td>49.15</td>\n",
       "      <td>42.00</td>\n",
       "      <td>7.15</td>\n",
       "      <td>False</td>\n",
       "      <td>True</td>\n",
       "      <td>True</td>\n",
       "      <td>False</td>\n",
       "      <td>54.684000</td>\n",
       "    </tr>\n",
       "    <tr>\n",
       "      <th>1</th>\n",
       "      <td>16.80</td>\n",
       "      <td>16.80</td>\n",
       "      <td>0.00</td>\n",
       "      <td>False</td>\n",
       "      <td>True</td>\n",
       "      <td>False</td>\n",
       "      <td>False</td>\n",
       "      <td>92.694286</td>\n",
       "    </tr>\n",
       "    <tr>\n",
       "      <th>2</th>\n",
       "      <td>51.60</td>\n",
       "      <td>29.30</td>\n",
       "      <td>22.30</td>\n",
       "      <td>False</td>\n",
       "      <td>True</td>\n",
       "      <td>False</td>\n",
       "      <td>False</td>\n",
       "      <td>52.608857</td>\n",
       "    </tr>\n",
       "    <tr>\n",
       "      <th>3</th>\n",
       "      <td>NaN</td>\n",
       "      <td>NaN</td>\n",
       "      <td>NaN</td>\n",
       "      <td>False</td>\n",
       "      <td>True</td>\n",
       "      <td>False</td>\n",
       "      <td>False</td>\n",
       "      <td>17.202571</td>\n",
       "    </tr>\n",
       "    <tr>\n",
       "      <th>4</th>\n",
       "      <td>58.15</td>\n",
       "      <td>22.05</td>\n",
       "      <td>36.10</td>\n",
       "      <td>False</td>\n",
       "      <td>True</td>\n",
       "      <td>False</td>\n",
       "      <td>False</td>\n",
       "      <td>52.899429</td>\n",
       "    </tr>\n",
       "  </tbody>\n",
       "</table>\n",
       "</div>"
      ],
      "text/plain": [
       "   TOTAL_INSULIN  TOTAL_BASAL  TOTAL_BOLUS HAS_REMOTE_SMBG_DATA  \\\n",
       "0          49.15        42.00         7.15                False   \n",
       "1          16.80        16.80         0.00                False   \n",
       "2          51.60        29.30        22.30                False   \n",
       "3            NaN          NaN          NaN                False   \n",
       "4          58.15        22.05        36.10                False   \n",
       "\n",
       "  HAS_REMOTE_CGM_DATA HAS_REMOTE_INSULIN_DATA HAS_IN_CLINIC_SYNC  \\\n",
       "0                True                    True              False   \n",
       "1                True                   False              False   \n",
       "2                True                   False              False   \n",
       "3                True                   False              False   \n",
       "4                True                   False              False   \n",
       "\n",
       "   GRI_FUTURE_2WK  \n",
       "0       54.684000  \n",
       "1       92.694286  \n",
       "2       52.608857  \n",
       "3       17.202571  \n",
       "4       52.899429  "
      ]
     },
     "execution_count": 128,
     "metadata": {},
     "output_type": "execute_result"
    }
   ],
   "source": [
    "X.head()"
   ]
  },
  {
   "cell_type": "code",
   "execution_count": 129,
   "id": "dd57035a",
   "metadata": {},
   "outputs": [
    {
     "data": {
      "text/plain": [
       "(4130, 8)"
      ]
     },
     "execution_count": 129,
     "metadata": {},
     "output_type": "execute_result"
    }
   ],
   "source": [
    "X.shape"
   ]
  },
  {
   "cell_type": "code",
   "execution_count": 130,
   "id": "1ee274bc",
   "metadata": {},
   "outputs": [
    {
     "name": "stdout",
     "output_type": "stream",
     "text": [
      "<class 'pandas.core.frame.DataFrame'>\n",
      "RangeIndex: 4130 entries, 0 to 4129\n",
      "Data columns (total 8 columns):\n",
      " #   Column                   Non-Null Count  Dtype  \n",
      "---  ------                   --------------  -----  \n",
      " 0   TOTAL_INSULIN            1710 non-null   float64\n",
      " 1   TOTAL_BASAL              1710 non-null   float64\n",
      " 2   TOTAL_BOLUS              1710 non-null   float64\n",
      " 3   HAS_REMOTE_SMBG_DATA     4128 non-null   object \n",
      " 4   HAS_REMOTE_CGM_DATA      4128 non-null   object \n",
      " 5   HAS_REMOTE_INSULIN_DATA  4128 non-null   object \n",
      " 6   HAS_IN_CLINIC_SYNC       4128 non-null   object \n",
      " 7   GRI_FUTURE_2WK           4130 non-null   float64\n",
      "dtypes: float64(4), object(4)\n",
      "memory usage: 258.2+ KB\n"
     ]
    }
   ],
   "source": [
    "X.info()"
   ]
  },
  {
   "cell_type": "markdown",
   "id": "90c0663e",
   "metadata": {},
   "source": [
    "### Also include variables from the user info data file\n",
    "The index of X is the user id. We will join the data together on ID."
   ]
  },
  {
   "cell_type": "code",
   "execution_count": 131,
   "id": "d8ffbf41",
   "metadata": {},
   "outputs": [
    {
     "data": {
      "text/plain": [
       "Index(['Unnamed: 0', 'ID', 'DIABETES_TYPE', 'GENDER', 'DATE_OF_BIRTH',\n",
       "       'CURRENT_AGE', 'AGE_WHEN_REGISTERED', 'APPLICATION_NAME', 'OS',\n",
       "       'HAS_CGM', 'HAS_PUMP', 'HAS_METER', 'SYNC_COUNT', 'EVENT_COUNT',\n",
       "       'FOOD_COUNT', 'EXERCISE_COUNT', 'MEDICATION_COUNT', 'APP_LENGTH',\n",
       "       'HAS_OTHER_COUNT', 'c4c', 'kiosk', 'logbook', 'patient_uploader',\n",
       "       'server', 'android', 'browser', 'ios'],\n",
       "      dtype='object')"
      ]
     },
     "execution_count": 131,
     "metadata": {},
     "output_type": "execute_result"
    }
   ],
   "source": [
    "# Remind ourselves of the variable names of the user data dataframe\n",
    "users_info_df.columns"
   ]
  },
  {
   "cell_type": "code",
   "execution_count": 132,
   "id": "4b7aabe2",
   "metadata": {},
   "outputs": [],
   "source": [
    "# First, create a variable of user data with only the columns we want\n",
    "users_info_temp = users_info_df.drop(columns=[\n",
    "    \"DIABETES_TYPE\",\"DATE_OF_BIRTH\",\"AGE_WHEN_REGISTERED\",\"APPLICATION_NAME\",\"OS\",\n",
    "    \"EVENT_COUNT\",\"FOOD_COUNT\",\"EXERCISE_COUNT\",\"MEDICATION_COUNT\",\"Unnamed: 0\"\n",
    "]).set_index(\"ID\")"
   ]
  },
  {
   "cell_type": "code",
   "execution_count": 133,
   "id": "950443c2",
   "metadata": {},
   "outputs": [
    {
     "data": {
      "text/html": [
       "<div>\n",
       "<style scoped>\n",
       "    .dataframe tbody tr th:only-of-type {\n",
       "        vertical-align: middle;\n",
       "    }\n",
       "\n",
       "    .dataframe tbody tr th {\n",
       "        vertical-align: top;\n",
       "    }\n",
       "\n",
       "    .dataframe thead th {\n",
       "        text-align: right;\n",
       "    }\n",
       "</style>\n",
       "<table border=\"1\" class=\"dataframe\">\n",
       "  <thead>\n",
       "    <tr style=\"text-align: right;\">\n",
       "      <th></th>\n",
       "      <th>GENDER</th>\n",
       "      <th>CURRENT_AGE</th>\n",
       "      <th>HAS_CGM</th>\n",
       "      <th>HAS_PUMP</th>\n",
       "      <th>HAS_METER</th>\n",
       "      <th>SYNC_COUNT</th>\n",
       "      <th>APP_LENGTH</th>\n",
       "      <th>HAS_OTHER_COUNT</th>\n",
       "      <th>c4c</th>\n",
       "      <th>kiosk</th>\n",
       "      <th>logbook</th>\n",
       "      <th>patient_uploader</th>\n",
       "      <th>server</th>\n",
       "      <th>android</th>\n",
       "      <th>browser</th>\n",
       "      <th>ios</th>\n",
       "    </tr>\n",
       "    <tr>\n",
       "      <th>ID</th>\n",
       "      <th></th>\n",
       "      <th></th>\n",
       "      <th></th>\n",
       "      <th></th>\n",
       "      <th></th>\n",
       "      <th></th>\n",
       "      <th></th>\n",
       "      <th></th>\n",
       "      <th></th>\n",
       "      <th></th>\n",
       "      <th></th>\n",
       "      <th></th>\n",
       "      <th></th>\n",
       "      <th></th>\n",
       "      <th></th>\n",
       "      <th></th>\n",
       "    </tr>\n",
       "  </thead>\n",
       "  <tbody>\n",
       "    <tr>\n",
       "      <th>1332</th>\n",
       "      <td>female</td>\n",
       "      <td>19</td>\n",
       "      <td>True</td>\n",
       "      <td>True</td>\n",
       "      <td>False</td>\n",
       "      <td>1244</td>\n",
       "      <td>5</td>\n",
       "      <td>False</td>\n",
       "      <td>0</td>\n",
       "      <td>1</td>\n",
       "      <td>1</td>\n",
       "      <td>0</td>\n",
       "      <td>0</td>\n",
       "      <td>1</td>\n",
       "      <td>0</td>\n",
       "      <td>1</td>\n",
       "    </tr>\n",
       "    <tr>\n",
       "      <th>1333</th>\n",
       "      <td>male</td>\n",
       "      <td>54</td>\n",
       "      <td>True</td>\n",
       "      <td>True</td>\n",
       "      <td>False</td>\n",
       "      <td>1739</td>\n",
       "      <td>3</td>\n",
       "      <td>False</td>\n",
       "      <td>0</td>\n",
       "      <td>0</td>\n",
       "      <td>1</td>\n",
       "      <td>1</td>\n",
       "      <td>0</td>\n",
       "      <td>0</td>\n",
       "      <td>1</td>\n",
       "      <td>1</td>\n",
       "    </tr>\n",
       "    <tr>\n",
       "      <th>1334</th>\n",
       "      <td>male</td>\n",
       "      <td>48</td>\n",
       "      <td>True</td>\n",
       "      <td>True</td>\n",
       "      <td>False</td>\n",
       "      <td>1296</td>\n",
       "      <td>1</td>\n",
       "      <td>False</td>\n",
       "      <td>0</td>\n",
       "      <td>0</td>\n",
       "      <td>1</td>\n",
       "      <td>0</td>\n",
       "      <td>0</td>\n",
       "      <td>0</td>\n",
       "      <td>1</td>\n",
       "      <td>0</td>\n",
       "    </tr>\n",
       "    <tr>\n",
       "      <th>1335</th>\n",
       "      <td>female</td>\n",
       "      <td>49</td>\n",
       "      <td>True</td>\n",
       "      <td>True</td>\n",
       "      <td>True</td>\n",
       "      <td>930</td>\n",
       "      <td>6</td>\n",
       "      <td>False</td>\n",
       "      <td>0</td>\n",
       "      <td>1</td>\n",
       "      <td>1</td>\n",
       "      <td>0</td>\n",
       "      <td>0</td>\n",
       "      <td>1</td>\n",
       "      <td>0</td>\n",
       "      <td>1</td>\n",
       "    </tr>\n",
       "    <tr>\n",
       "      <th>1336</th>\n",
       "      <td>male</td>\n",
       "      <td>33</td>\n",
       "      <td>True</td>\n",
       "      <td>True</td>\n",
       "      <td>False</td>\n",
       "      <td>1221</td>\n",
       "      <td>4</td>\n",
       "      <td>False</td>\n",
       "      <td>0</td>\n",
       "      <td>0</td>\n",
       "      <td>1</td>\n",
       "      <td>0</td>\n",
       "      <td>0</td>\n",
       "      <td>0</td>\n",
       "      <td>0</td>\n",
       "      <td>1</td>\n",
       "    </tr>\n",
       "    <tr>\n",
       "      <th>1337</th>\n",
       "      <td>female</td>\n",
       "      <td>28</td>\n",
       "      <td>True</td>\n",
       "      <td>True</td>\n",
       "      <td>False</td>\n",
       "      <td>1270</td>\n",
       "      <td>8</td>\n",
       "      <td>False</td>\n",
       "      <td>0</td>\n",
       "      <td>0</td>\n",
       "      <td>1</td>\n",
       "      <td>0</td>\n",
       "      <td>0</td>\n",
       "      <td>0</td>\n",
       "      <td>0</td>\n",
       "      <td>1</td>\n",
       "    </tr>\n",
       "    <tr>\n",
       "      <th>1338</th>\n",
       "      <td>female</td>\n",
       "      <td>31</td>\n",
       "      <td>True</td>\n",
       "      <td>True</td>\n",
       "      <td>False</td>\n",
       "      <td>1260</td>\n",
       "      <td>6</td>\n",
       "      <td>False</td>\n",
       "      <td>0</td>\n",
       "      <td>1</td>\n",
       "      <td>1</td>\n",
       "      <td>0</td>\n",
       "      <td>0</td>\n",
       "      <td>1</td>\n",
       "      <td>0</td>\n",
       "      <td>0</td>\n",
       "    </tr>\n",
       "    <tr>\n",
       "      <th>1339</th>\n",
       "      <td>male</td>\n",
       "      <td>46</td>\n",
       "      <td>True</td>\n",
       "      <td>True</td>\n",
       "      <td>False</td>\n",
       "      <td>2008</td>\n",
       "      <td>6</td>\n",
       "      <td>False</td>\n",
       "      <td>0</td>\n",
       "      <td>1</td>\n",
       "      <td>1</td>\n",
       "      <td>0</td>\n",
       "      <td>0</td>\n",
       "      <td>1</td>\n",
       "      <td>1</td>\n",
       "      <td>1</td>\n",
       "    </tr>\n",
       "    <tr>\n",
       "      <th>1340</th>\n",
       "      <td>male</td>\n",
       "      <td>40</td>\n",
       "      <td>True</td>\n",
       "      <td>True</td>\n",
       "      <td>True</td>\n",
       "      <td>990</td>\n",
       "      <td>4</td>\n",
       "      <td>False</td>\n",
       "      <td>1</td>\n",
       "      <td>0</td>\n",
       "      <td>1</td>\n",
       "      <td>0</td>\n",
       "      <td>0</td>\n",
       "      <td>1</td>\n",
       "      <td>0</td>\n",
       "      <td>1</td>\n",
       "    </tr>\n",
       "    <tr>\n",
       "      <th>1341</th>\n",
       "      <td>female</td>\n",
       "      <td>67</td>\n",
       "      <td>True</td>\n",
       "      <td>True</td>\n",
       "      <td>False</td>\n",
       "      <td>2317</td>\n",
       "      <td>2</td>\n",
       "      <td>False</td>\n",
       "      <td>0</td>\n",
       "      <td>0</td>\n",
       "      <td>1</td>\n",
       "      <td>1</td>\n",
       "      <td>0</td>\n",
       "      <td>0</td>\n",
       "      <td>1</td>\n",
       "      <td>1</td>\n",
       "    </tr>\n",
       "  </tbody>\n",
       "</table>\n",
       "</div>"
      ],
      "text/plain": [
       "      GENDER  CURRENT_AGE  HAS_CGM  HAS_PUMP  HAS_METER  SYNC_COUNT  \\\n",
       "ID                                                                    \n",
       "1332  female           19     True      True      False        1244   \n",
       "1333    male           54     True      True      False        1739   \n",
       "1334    male           48     True      True      False        1296   \n",
       "1335  female           49     True      True       True         930   \n",
       "1336    male           33     True      True      False        1221   \n",
       "1337  female           28     True      True      False        1270   \n",
       "1338  female           31     True      True      False        1260   \n",
       "1339    male           46     True      True      False        2008   \n",
       "1340    male           40     True      True       True         990   \n",
       "1341  female           67     True      True      False        2317   \n",
       "\n",
       "      APP_LENGTH  HAS_OTHER_COUNT  c4c  kiosk  logbook  patient_uploader  \\\n",
       "ID                                                                         \n",
       "1332           5            False    0      1        1                 0   \n",
       "1333           3            False    0      0        1                 1   \n",
       "1334           1            False    0      0        1                 0   \n",
       "1335           6            False    0      1        1                 0   \n",
       "1336           4            False    0      0        1                 0   \n",
       "1337           8            False    0      0        1                 0   \n",
       "1338           6            False    0      1        1                 0   \n",
       "1339           6            False    0      1        1                 0   \n",
       "1340           4            False    1      0        1                 0   \n",
       "1341           2            False    0      0        1                 1   \n",
       "\n",
       "      server  android  browser  ios  \n",
       "ID                                   \n",
       "1332       0        1        0    1  \n",
       "1333       0        0        1    1  \n",
       "1334       0        0        1    0  \n",
       "1335       0        1        0    1  \n",
       "1336       0        0        0    1  \n",
       "1337       0        0        0    1  \n",
       "1338       0        1        0    0  \n",
       "1339       0        1        1    1  \n",
       "1340       0        1        0    1  \n",
       "1341       0        0        1    1  "
      ]
     },
     "execution_count": 133,
     "metadata": {},
     "output_type": "execute_result"
    }
   ],
   "source": [
    "users_info_temp.head(10)"
   ]
  },
  {
   "cell_type": "code",
   "execution_count": 134,
   "id": "5263eedb",
   "metadata": {},
   "outputs": [],
   "source": [
    "# Now, join the two dataframes\n",
    "X = X.join(users_info_temp)"
   ]
  },
  {
   "cell_type": "code",
   "execution_count": 135,
   "id": "5871b0cf",
   "metadata": {},
   "outputs": [
    {
     "data": {
      "text/html": [
       "<div>\n",
       "<style scoped>\n",
       "    .dataframe tbody tr th:only-of-type {\n",
       "        vertical-align: middle;\n",
       "    }\n",
       "\n",
       "    .dataframe tbody tr th {\n",
       "        vertical-align: top;\n",
       "    }\n",
       "\n",
       "    .dataframe thead th {\n",
       "        text-align: right;\n",
       "    }\n",
       "</style>\n",
       "<table border=\"1\" class=\"dataframe\">\n",
       "  <thead>\n",
       "    <tr style=\"text-align: right;\">\n",
       "      <th></th>\n",
       "      <th>GENDER</th>\n",
       "      <th>CURRENT_AGE</th>\n",
       "      <th>HAS_CGM</th>\n",
       "      <th>HAS_PUMP</th>\n",
       "      <th>HAS_METER</th>\n",
       "      <th>SYNC_COUNT</th>\n",
       "      <th>APP_LENGTH</th>\n",
       "      <th>HAS_OTHER_COUNT</th>\n",
       "      <th>c4c</th>\n",
       "      <th>kiosk</th>\n",
       "      <th>logbook</th>\n",
       "      <th>patient_uploader</th>\n",
       "      <th>server</th>\n",
       "      <th>android</th>\n",
       "      <th>browser</th>\n",
       "      <th>ios</th>\n",
       "    </tr>\n",
       "  </thead>\n",
       "  <tbody>\n",
       "    <tr>\n",
       "      <th>1332</th>\n",
       "      <td>female</td>\n",
       "      <td>19</td>\n",
       "      <td>True</td>\n",
       "      <td>True</td>\n",
       "      <td>False</td>\n",
       "      <td>1244</td>\n",
       "      <td>5</td>\n",
       "      <td>False</td>\n",
       "      <td>0</td>\n",
       "      <td>1</td>\n",
       "      <td>1</td>\n",
       "      <td>0</td>\n",
       "      <td>0</td>\n",
       "      <td>1</td>\n",
       "      <td>0</td>\n",
       "      <td>1</td>\n",
       "    </tr>\n",
       "    <tr>\n",
       "      <th>1333</th>\n",
       "      <td>male</td>\n",
       "      <td>54</td>\n",
       "      <td>True</td>\n",
       "      <td>True</td>\n",
       "      <td>False</td>\n",
       "      <td>1739</td>\n",
       "      <td>3</td>\n",
       "      <td>False</td>\n",
       "      <td>0</td>\n",
       "      <td>0</td>\n",
       "      <td>1</td>\n",
       "      <td>1</td>\n",
       "      <td>0</td>\n",
       "      <td>0</td>\n",
       "      <td>1</td>\n",
       "      <td>1</td>\n",
       "    </tr>\n",
       "    <tr>\n",
       "      <th>1334</th>\n",
       "      <td>male</td>\n",
       "      <td>48</td>\n",
       "      <td>True</td>\n",
       "      <td>True</td>\n",
       "      <td>False</td>\n",
       "      <td>1296</td>\n",
       "      <td>1</td>\n",
       "      <td>False</td>\n",
       "      <td>0</td>\n",
       "      <td>0</td>\n",
       "      <td>1</td>\n",
       "      <td>0</td>\n",
       "      <td>0</td>\n",
       "      <td>0</td>\n",
       "      <td>1</td>\n",
       "      <td>0</td>\n",
       "    </tr>\n",
       "    <tr>\n",
       "      <th>1335</th>\n",
       "      <td>female</td>\n",
       "      <td>49</td>\n",
       "      <td>True</td>\n",
       "      <td>True</td>\n",
       "      <td>True</td>\n",
       "      <td>930</td>\n",
       "      <td>6</td>\n",
       "      <td>False</td>\n",
       "      <td>0</td>\n",
       "      <td>1</td>\n",
       "      <td>1</td>\n",
       "      <td>0</td>\n",
       "      <td>0</td>\n",
       "      <td>1</td>\n",
       "      <td>0</td>\n",
       "      <td>1</td>\n",
       "    </tr>\n",
       "    <tr>\n",
       "      <th>1336</th>\n",
       "      <td>male</td>\n",
       "      <td>33</td>\n",
       "      <td>True</td>\n",
       "      <td>True</td>\n",
       "      <td>False</td>\n",
       "      <td>1221</td>\n",
       "      <td>4</td>\n",
       "      <td>False</td>\n",
       "      <td>0</td>\n",
       "      <td>0</td>\n",
       "      <td>1</td>\n",
       "      <td>0</td>\n",
       "      <td>0</td>\n",
       "      <td>0</td>\n",
       "      <td>0</td>\n",
       "      <td>1</td>\n",
       "    </tr>\n",
       "  </tbody>\n",
       "</table>\n",
       "</div>"
      ],
      "text/plain": [
       "      GENDER  CURRENT_AGE  HAS_CGM  HAS_PUMP  HAS_METER  SYNC_COUNT  \\\n",
       "1332  female           19     True      True      False        1244   \n",
       "1333    male           54     True      True      False        1739   \n",
       "1334    male           48     True      True      False        1296   \n",
       "1335  female           49     True      True       True         930   \n",
       "1336    male           33     True      True      False        1221   \n",
       "\n",
       "      APP_LENGTH  HAS_OTHER_COUNT  c4c  kiosk  logbook  patient_uploader  \\\n",
       "1332           5            False    0      1        1                 0   \n",
       "1333           3            False    0      0        1                 1   \n",
       "1334           1            False    0      0        1                 0   \n",
       "1335           6            False    0      1        1                 0   \n",
       "1336           4            False    0      0        1                 0   \n",
       "\n",
       "      server  android  browser  ios  \n",
       "1332       0        1        0    1  \n",
       "1333       0        0        1    1  \n",
       "1334       0        0        1    0  \n",
       "1335       0        1        0    1  \n",
       "1336       0        0        0    1  "
      ]
     },
     "execution_count": 135,
     "metadata": {},
     "output_type": "execute_result"
    }
   ],
   "source": [
    "# Quick check to see that the data is the same - it is\n",
    "X[X.columns[-16:]].iloc[1332:1337]"
   ]
  },
  {
   "cell_type": "markdown",
   "id": "3ffbdc8d",
   "metadata": {},
   "source": [
    "## Convert daily variables into structured data format\n",
    "In this section, we take past data from the last 2 weeks and place it into new variables all in the same row."
   ]
  },
  {
   "cell_type": "code",
   "execution_count": 136,
   "id": "bc49fc75",
   "metadata": {},
   "outputs": [],
   "source": [
    "# These variables we will make into multiple variables for data from the past 2 weeks:\n",
    "var_proc_2wk = ['TIME_CGM_ACTIVE','AVERAGE_VALUE','ABOVE_250','BELOW_54',\n",
    "               'LOWEST_VALUE','HIGHEST_VALUE','GRI']"
   ]
  },
  {
   "cell_type": "code",
   "execution_count": 137,
   "id": "1ed3aaa8",
   "metadata": {},
   "outputs": [
    {
     "data": {
      "text/plain": [
       "3828     2021-04-01\n",
       "4419     2021-04-02\n",
       "11018    2021-04-03\n",
       "15663    2021-04-04\n",
       "18285    2021-04-05\n",
       "Name: DATE, dtype: object"
      ]
     },
     "execution_count": 137,
     "metadata": {},
     "output_type": "execute_result"
    }
   ],
   "source": [
    "temp = users_ds_df['DATE']\n",
    "temp.head()"
   ]
  },
  {
   "cell_type": "code",
   "execution_count": 139,
   "id": "71364a2d",
   "metadata": {},
   "outputs": [],
   "source": [
    "from datetime import datetime\n"
   ]
  },
  {
   "cell_type": "code",
   "execution_count": 62,
   "id": "81f8d5c4",
   "metadata": {},
   "outputs": [
    {
     "ename": "TypeError",
     "evalue": "strptime() argument 1 must be str, not Series",
     "output_type": "error",
     "traceback": [
      "\u001B[0;31m---------------------------------------------------------------------------\u001B[0m",
      "\u001B[0;31mTypeError\u001B[0m                                 Traceback (most recent call last)",
      "\u001B[0;32m/var/folders/jf/8qzdy32d3y9c7v75pkb_34640000gp/T/ipykernel_61756/1224098244.py\u001B[0m in \u001B[0;36m<module>\u001B[0;34m\u001B[0m\n\u001B[0;32m----> 1\u001B[0;31m \u001B[0mtemp2\u001B[0m \u001B[0;34m=\u001B[0m \u001B[0mdatetime\u001B[0m\u001B[0;34m.\u001B[0m\u001B[0mstrptime\u001B[0m\u001B[0;34m(\u001B[0m\u001B[0mtemp\u001B[0m\u001B[0;34m,\u001B[0m \u001B[0;34m'%y/%m/%d'\u001B[0m\u001B[0;34m)\u001B[0m\u001B[0;34m\u001B[0m\u001B[0;34m\u001B[0m\u001B[0m\n\u001B[0m",
      "\u001B[0;31mTypeError\u001B[0m: strptime() argument 1 must be str, not Series"
     ]
    }
   ],
   "source": [
    "temp2 = datetime.strptime(temp, '%y/%m/%d')"
   ]
  },
  {
   "cell_type": "code",
   "execution_count": null,
   "id": "11583985",
   "metadata": {},
   "outputs": [],
   "source": []
  },
  {
   "cell_type": "code",
   "execution_count": null,
   "id": "61810ecb",
   "metadata": {},
   "outputs": [],
   "source": []
  },
  {
   "cell_type": "code",
   "execution_count": 55,
   "id": "eda420e2",
   "metadata": {},
   "outputs": [],
   "source": [
    "# We make 14 variables containing all the users, for the last 14 days\n",
    "dates = ['2021-04-14','2021-04-13','2021-04-12','2021-04-11','2021-04-10',\n",
    "        '2021-04-09','2021-04-08','2021-04-07','2021-04-06','2021-04-05',\n",
    "        '2021-04-04','2021-04-03','2021-04-02','2021-04-01']\n",
    "for j in range(len(dates)):\n",
    "    globals()[f\"data_{j}\"] = users_ds_df[var_proc_2wk] \\\n",
    "        [users_ds_df['DATE'] == dates[j]].reset_index()"
   ]
  },
  {
   "cell_type": "code",
   "execution_count": 55,
   "id": "f837c0f8",
   "metadata": {},
   "outputs": [
    {
     "name": "stderr",
     "output_type": "stream",
     "text": [
      "/var/folders/jf/8qzdy32d3y9c7v75pkb_34640000gp/T/ipykernel_33447/1243508662.py:4: PerformanceWarning: DataFrame is highly fragmented.  This is usually the result of calling `frame.insert` many times, which has poor performance.  Consider joining all columns at once using pd.concat(axis=1) instead. To get a de-fragmented frame, use `newframe = frame.copy()`\n",
      "  X[f\"{var}_{j}\"] = globals()[f\"data_{j}\"][var]\n",
      "/var/folders/jf/8qzdy32d3y9c7v75pkb_34640000gp/T/ipykernel_33447/1243508662.py:4: PerformanceWarning: DataFrame is highly fragmented.  This is usually the result of calling `frame.insert` many times, which has poor performance.  Consider joining all columns at once using pd.concat(axis=1) instead. To get a de-fragmented frame, use `newframe = frame.copy()`\n",
      "  X[f\"{var}_{j}\"] = globals()[f\"data_{j}\"][var]\n"
     ]
    }
   ],
   "source": [
    "# We will create 14 values for each variable, one each for each day in the past 2 weeks\n",
    "for var in var_proc_2wk:\n",
    "    for j in range(len(dates)):\n",
    "        X[f\"{var}_{j}\"] = globals()[f\"data_{j}\"][var]"
   ]
  },
  {
   "cell_type": "code",
   "execution_count": 56,
   "id": "72b3c756",
   "metadata": {},
   "outputs": [
    {
     "data": {
      "text/html": [
       "<div>\n",
       "<style scoped>\n",
       "    .dataframe tbody tr th:only-of-type {\n",
       "        vertical-align: middle;\n",
       "    }\n",
       "\n",
       "    .dataframe tbody tr th {\n",
       "        vertical-align: top;\n",
       "    }\n",
       "\n",
       "    .dataframe thead th {\n",
       "        text-align: right;\n",
       "    }\n",
       "</style>\n",
       "<table border=\"1\" class=\"dataframe\">\n",
       "  <thead>\n",
       "    <tr style=\"text-align: right;\">\n",
       "      <th></th>\n",
       "      <th>TOTAL_INSULIN</th>\n",
       "      <th>TOTAL_BASAL</th>\n",
       "      <th>TOTAL_BOLUS</th>\n",
       "      <th>HAS_REMOTE_SMBG_DATA</th>\n",
       "      <th>HAS_REMOTE_CGM_DATA</th>\n",
       "      <th>HAS_REMOTE_INSULIN_DATA</th>\n",
       "      <th>HAS_IN_CLINIC_SYNC</th>\n",
       "      <th>GRI_FUTURE_2WK</th>\n",
       "      <th>GENDER</th>\n",
       "      <th>CURRENT_AGE</th>\n",
       "      <th>...</th>\n",
       "      <th>GRI_4</th>\n",
       "      <th>GRI_5</th>\n",
       "      <th>GRI_6</th>\n",
       "      <th>GRI_7</th>\n",
       "      <th>GRI_8</th>\n",
       "      <th>GRI_9</th>\n",
       "      <th>GRI_10</th>\n",
       "      <th>GRI_11</th>\n",
       "      <th>GRI_12</th>\n",
       "      <th>GRI_13</th>\n",
       "    </tr>\n",
       "  </thead>\n",
       "  <tbody>\n",
       "    <tr>\n",
       "      <th>0</th>\n",
       "      <td>49.15</td>\n",
       "      <td>42.00</td>\n",
       "      <td>7.15</td>\n",
       "      <td>False</td>\n",
       "      <td>True</td>\n",
       "      <td>True</td>\n",
       "      <td>False</td>\n",
       "      <td>54.684000</td>\n",
       "      <td>male</td>\n",
       "      <td>57</td>\n",
       "      <td>...</td>\n",
       "      <td>74.440</td>\n",
       "      <td>108.888</td>\n",
       "      <td>106.488</td>\n",
       "      <td>143.008</td>\n",
       "      <td>101.112</td>\n",
       "      <td>47.504</td>\n",
       "      <td>64.168</td>\n",
       "      <td>118.608</td>\n",
       "      <td>100.832</td>\n",
       "      <td>85.560</td>\n",
       "    </tr>\n",
       "    <tr>\n",
       "      <th>1</th>\n",
       "      <td>16.80</td>\n",
       "      <td>16.80</td>\n",
       "      <td>0.00</td>\n",
       "      <td>False</td>\n",
       "      <td>True</td>\n",
       "      <td>False</td>\n",
       "      <td>False</td>\n",
       "      <td>92.694286</td>\n",
       "      <td>female</td>\n",
       "      <td>47</td>\n",
       "      <td>...</td>\n",
       "      <td>160.000</td>\n",
       "      <td>132.144</td>\n",
       "      <td>7.608</td>\n",
       "      <td>58.352</td>\n",
       "      <td>75.544</td>\n",
       "      <td>92.136</td>\n",
       "      <td>64.840</td>\n",
       "      <td>16.784</td>\n",
       "      <td>45.080</td>\n",
       "      <td>44.568</td>\n",
       "    </tr>\n",
       "    <tr>\n",
       "      <th>2</th>\n",
       "      <td>51.60</td>\n",
       "      <td>29.30</td>\n",
       "      <td>22.30</td>\n",
       "      <td>False</td>\n",
       "      <td>True</td>\n",
       "      <td>False</td>\n",
       "      <td>False</td>\n",
       "      <td>52.608857</td>\n",
       "      <td>female</td>\n",
       "      <td>18</td>\n",
       "      <td>...</td>\n",
       "      <td>38.344</td>\n",
       "      <td>35.838</td>\n",
       "      <td>52.648</td>\n",
       "      <td>66.054</td>\n",
       "      <td>77.094</td>\n",
       "      <td>66.172</td>\n",
       "      <td>42.000</td>\n",
       "      <td>105.008</td>\n",
       "      <td>86.934</td>\n",
       "      <td>25.840</td>\n",
       "    </tr>\n",
       "    <tr>\n",
       "      <th>3</th>\n",
       "      <td>NaN</td>\n",
       "      <td>NaN</td>\n",
       "      <td>NaN</td>\n",
       "      <td>False</td>\n",
       "      <td>True</td>\n",
       "      <td>False</td>\n",
       "      <td>False</td>\n",
       "      <td>17.202571</td>\n",
       "      <td>female</td>\n",
       "      <td>28</td>\n",
       "      <td>...</td>\n",
       "      <td>8.328</td>\n",
       "      <td>6.672</td>\n",
       "      <td>10.280</td>\n",
       "      <td>5.832</td>\n",
       "      <td>22.512</td>\n",
       "      <td>6.944</td>\n",
       "      <td>37.776</td>\n",
       "      <td>18.120</td>\n",
       "      <td>25.748</td>\n",
       "      <td>20.072</td>\n",
       "    </tr>\n",
       "    <tr>\n",
       "      <th>4</th>\n",
       "      <td>58.15</td>\n",
       "      <td>22.05</td>\n",
       "      <td>36.10</td>\n",
       "      <td>False</td>\n",
       "      <td>True</td>\n",
       "      <td>False</td>\n",
       "      <td>False</td>\n",
       "      <td>52.899429</td>\n",
       "      <td>female</td>\n",
       "      <td>31</td>\n",
       "      <td>...</td>\n",
       "      <td>63.614</td>\n",
       "      <td>0.000</td>\n",
       "      <td>98.386</td>\n",
       "      <td>24.084</td>\n",
       "      <td>55.978</td>\n",
       "      <td>51.456</td>\n",
       "      <td>55.562</td>\n",
       "      <td>77.234</td>\n",
       "      <td>87.350</td>\n",
       "      <td>65.066</td>\n",
       "    </tr>\n",
       "  </tbody>\n",
       "</table>\n",
       "<p>5 rows × 122 columns</p>\n",
       "</div>"
      ],
      "text/plain": [
       "   TOTAL_INSULIN  TOTAL_BASAL  TOTAL_BOLUS HAS_REMOTE_SMBG_DATA  \\\n",
       "0          49.15        42.00         7.15                False   \n",
       "1          16.80        16.80         0.00                False   \n",
       "2          51.60        29.30        22.30                False   \n",
       "3            NaN          NaN          NaN                False   \n",
       "4          58.15        22.05        36.10                False   \n",
       "\n",
       "  HAS_REMOTE_CGM_DATA HAS_REMOTE_INSULIN_DATA HAS_IN_CLINIC_SYNC  \\\n",
       "0                True                    True              False   \n",
       "1                True                   False              False   \n",
       "2                True                   False              False   \n",
       "3                True                   False              False   \n",
       "4                True                   False              False   \n",
       "\n",
       "   GRI_FUTURE_2WK  GENDER  CURRENT_AGE  ...    GRI_4    GRI_5    GRI_6  \\\n",
       "0       54.684000    male           57  ...   74.440  108.888  106.488   \n",
       "1       92.694286  female           47  ...  160.000  132.144    7.608   \n",
       "2       52.608857  female           18  ...   38.344   35.838   52.648   \n",
       "3       17.202571  female           28  ...    8.328    6.672   10.280   \n",
       "4       52.899429  female           31  ...   63.614    0.000   98.386   \n",
       "\n",
       "     GRI_7    GRI_8   GRI_9  GRI_10   GRI_11   GRI_12  GRI_13  \n",
       "0  143.008  101.112  47.504  64.168  118.608  100.832  85.560  \n",
       "1   58.352   75.544  92.136  64.840   16.784   45.080  44.568  \n",
       "2   66.054   77.094  66.172  42.000  105.008   86.934  25.840  \n",
       "3    5.832   22.512   6.944  37.776   18.120   25.748  20.072  \n",
       "4   24.084   55.978  51.456  55.562   77.234   87.350  65.066  \n",
       "\n",
       "[5 rows x 122 columns]"
      ]
     },
     "execution_count": 56,
     "metadata": {},
     "output_type": "execute_result"
    }
   ],
   "source": [
    "X.head()"
   ]
  },
  {
   "cell_type": "code",
   "execution_count": 57,
   "id": "be4225b8",
   "metadata": {},
   "outputs": [],
   "source": [
    "# Now we create an additional value for each variable\n",
    "# which is the average over the last 2 week period\n",
    "for var in var_proc_2wk:\n",
    "    # create a list of column names:\n",
    "    names = []\n",
    "    for j in range(len(dates)):\n",
    "        names.append(f\"{var}_{j}\")\n",
    "    # Now take the average of these values and save it as a new variable\n",
    "    X[f\"{var}_avg2wk\"] = X[names].mean(axis=1)"
   ]
  },
  {
   "cell_type": "code",
   "execution_count": 58,
   "id": "10b4f03e",
   "metadata": {},
   "outputs": [
    {
     "data": {
      "text/html": [
       "<div>\n",
       "<style scoped>\n",
       "    .dataframe tbody tr th:only-of-type {\n",
       "        vertical-align: middle;\n",
       "    }\n",
       "\n",
       "    .dataframe tbody tr th {\n",
       "        vertical-align: top;\n",
       "    }\n",
       "\n",
       "    .dataframe thead th {\n",
       "        text-align: right;\n",
       "    }\n",
       "</style>\n",
       "<table border=\"1\" class=\"dataframe\">\n",
       "  <thead>\n",
       "    <tr style=\"text-align: right;\">\n",
       "      <th></th>\n",
       "      <th>TOTAL_INSULIN</th>\n",
       "      <th>TOTAL_BASAL</th>\n",
       "      <th>TOTAL_BOLUS</th>\n",
       "      <th>HAS_REMOTE_SMBG_DATA</th>\n",
       "      <th>HAS_REMOTE_CGM_DATA</th>\n",
       "      <th>HAS_REMOTE_INSULIN_DATA</th>\n",
       "      <th>HAS_IN_CLINIC_SYNC</th>\n",
       "      <th>GRI_FUTURE_2WK</th>\n",
       "      <th>GENDER</th>\n",
       "      <th>CURRENT_AGE</th>\n",
       "      <th>...</th>\n",
       "      <th>GRI_11</th>\n",
       "      <th>GRI_12</th>\n",
       "      <th>GRI_13</th>\n",
       "      <th>TIME_CGM_ACTIVE_avg2wk</th>\n",
       "      <th>AVERAGE_VALUE_avg2wk</th>\n",
       "      <th>ABOVE_250_avg2wk</th>\n",
       "      <th>BELOW_54_avg2wk</th>\n",
       "      <th>LOWEST_VALUE_avg2wk</th>\n",
       "      <th>HIGHEST_VALUE_avg2wk</th>\n",
       "      <th>GRI_avg2wk</th>\n",
       "    </tr>\n",
       "  </thead>\n",
       "  <tbody>\n",
       "    <tr>\n",
       "      <th>0</th>\n",
       "      <td>49.15</td>\n",
       "      <td>42.00</td>\n",
       "      <td>7.15</td>\n",
       "      <td>False</td>\n",
       "      <td>True</td>\n",
       "      <td>True</td>\n",
       "      <td>False</td>\n",
       "      <td>54.684000</td>\n",
       "      <td>male</td>\n",
       "      <td>57</td>\n",
       "      <td>...</td>\n",
       "      <td>118.608</td>\n",
       "      <td>100.832</td>\n",
       "      <td>85.560</td>\n",
       "      <td>0.992560</td>\n",
       "      <td>235.341072</td>\n",
       "      <td>41.626429</td>\n",
       "      <td>0.000000</td>\n",
       "      <td>129.928571</td>\n",
       "      <td>328.000000</td>\n",
       "      <td>98.278286</td>\n",
       "    </tr>\n",
       "    <tr>\n",
       "      <th>1</th>\n",
       "      <td>16.80</td>\n",
       "      <td>16.80</td>\n",
       "      <td>0.00</td>\n",
       "      <td>False</td>\n",
       "      <td>True</td>\n",
       "      <td>False</td>\n",
       "      <td>False</td>\n",
       "      <td>92.694286</td>\n",
       "      <td>female</td>\n",
       "      <td>47</td>\n",
       "      <td>...</td>\n",
       "      <td>16.784</td>\n",
       "      <td>45.080</td>\n",
       "      <td>44.568</td>\n",
       "      <td>0.724454</td>\n",
       "      <td>229.794895</td>\n",
       "      <td>34.435714</td>\n",
       "      <td>0.000000</td>\n",
       "      <td>144.357143</td>\n",
       "      <td>314.285714</td>\n",
       "      <td>76.854857</td>\n",
       "    </tr>\n",
       "    <tr>\n",
       "      <th>2</th>\n",
       "      <td>51.60</td>\n",
       "      <td>29.30</td>\n",
       "      <td>22.30</td>\n",
       "      <td>False</td>\n",
       "      <td>True</td>\n",
       "      <td>False</td>\n",
       "      <td>False</td>\n",
       "      <td>52.608857</td>\n",
       "      <td>female</td>\n",
       "      <td>18</td>\n",
       "      <td>...</td>\n",
       "      <td>105.008</td>\n",
       "      <td>86.934</td>\n",
       "      <td>25.840</td>\n",
       "      <td>0.969246</td>\n",
       "      <td>161.175960</td>\n",
       "      <td>8.502857</td>\n",
       "      <td>1.960714</td>\n",
       "      <td>51.142857</td>\n",
       "      <td>299.857143</td>\n",
       "      <td>58.726714</td>\n",
       "    </tr>\n",
       "    <tr>\n",
       "      <th>3</th>\n",
       "      <td>NaN</td>\n",
       "      <td>NaN</td>\n",
       "      <td>NaN</td>\n",
       "      <td>False</td>\n",
       "      <td>True</td>\n",
       "      <td>False</td>\n",
       "      <td>False</td>\n",
       "      <td>17.202571</td>\n",
       "      <td>female</td>\n",
       "      <td>28</td>\n",
       "      <td>...</td>\n",
       "      <td>18.120</td>\n",
       "      <td>25.748</td>\n",
       "      <td>20.072</td>\n",
       "      <td>0.982143</td>\n",
       "      <td>119.962507</td>\n",
       "      <td>0.797143</td>\n",
       "      <td>0.371429</td>\n",
       "      <td>60.000000</td>\n",
       "      <td>220.000000</td>\n",
       "      <td>16.206857</td>\n",
       "    </tr>\n",
       "    <tr>\n",
       "      <th>4</th>\n",
       "      <td>58.15</td>\n",
       "      <td>22.05</td>\n",
       "      <td>36.10</td>\n",
       "      <td>False</td>\n",
       "      <td>True</td>\n",
       "      <td>False</td>\n",
       "      <td>False</td>\n",
       "      <td>52.899429</td>\n",
       "      <td>female</td>\n",
       "      <td>31</td>\n",
       "      <td>...</td>\n",
       "      <td>77.234</td>\n",
       "      <td>87.350</td>\n",
       "      <td>65.066</td>\n",
       "      <td>0.909722</td>\n",
       "      <td>158.483504</td>\n",
       "      <td>10.853571</td>\n",
       "      <td>2.951429</td>\n",
       "      <td>52.500000</td>\n",
       "      <td>287.071429</td>\n",
       "      <td>59.656000</td>\n",
       "    </tr>\n",
       "  </tbody>\n",
       "</table>\n",
       "<p>5 rows × 129 columns</p>\n",
       "</div>"
      ],
      "text/plain": [
       "   TOTAL_INSULIN  TOTAL_BASAL  TOTAL_BOLUS HAS_REMOTE_SMBG_DATA  \\\n",
       "0          49.15        42.00         7.15                False   \n",
       "1          16.80        16.80         0.00                False   \n",
       "2          51.60        29.30        22.30                False   \n",
       "3            NaN          NaN          NaN                False   \n",
       "4          58.15        22.05        36.10                False   \n",
       "\n",
       "  HAS_REMOTE_CGM_DATA HAS_REMOTE_INSULIN_DATA HAS_IN_CLINIC_SYNC  \\\n",
       "0                True                    True              False   \n",
       "1                True                   False              False   \n",
       "2                True                   False              False   \n",
       "3                True                   False              False   \n",
       "4                True                   False              False   \n",
       "\n",
       "   GRI_FUTURE_2WK  GENDER  CURRENT_AGE  ...   GRI_11   GRI_12  GRI_13  \\\n",
       "0       54.684000    male           57  ...  118.608  100.832  85.560   \n",
       "1       92.694286  female           47  ...   16.784   45.080  44.568   \n",
       "2       52.608857  female           18  ...  105.008   86.934  25.840   \n",
       "3       17.202571  female           28  ...   18.120   25.748  20.072   \n",
       "4       52.899429  female           31  ...   77.234   87.350  65.066   \n",
       "\n",
       "   TIME_CGM_ACTIVE_avg2wk  AVERAGE_VALUE_avg2wk  ABOVE_250_avg2wk  \\\n",
       "0                0.992560            235.341072         41.626429   \n",
       "1                0.724454            229.794895         34.435714   \n",
       "2                0.969246            161.175960          8.502857   \n",
       "3                0.982143            119.962507          0.797143   \n",
       "4                0.909722            158.483504         10.853571   \n",
       "\n",
       "   BELOW_54_avg2wk  LOWEST_VALUE_avg2wk  HIGHEST_VALUE_avg2wk  GRI_avg2wk  \n",
       "0         0.000000           129.928571            328.000000   98.278286  \n",
       "1         0.000000           144.357143            314.285714   76.854857  \n",
       "2         1.960714            51.142857            299.857143   58.726714  \n",
       "3         0.371429            60.000000            220.000000   16.206857  \n",
       "4         2.951429            52.500000            287.071429   59.656000  \n",
       "\n",
       "[5 rows x 129 columns]"
      ]
     },
     "execution_count": 58,
     "metadata": {},
     "output_type": "execute_result"
    }
   ],
   "source": [
    "X.head()"
   ]
  },
  {
   "cell_type": "markdown",
   "id": "b6a9f652",
   "metadata": {},
   "source": [
    "The insulin variables have NaNs. For now we will drop them and replace with a variable indicating whether insulin data was recorded. In the future, we woul dlike to use this data because it contains interesting information."
   ]
  },
  {
   "cell_type": "code",
   "execution_count": 59,
   "id": "b92ac280",
   "metadata": {},
   "outputs": [],
   "source": [
    "has_insulin = (X['TOTAL_INSULIN'].isna()).astype(int)\n",
    "X.drop(columns=['TOTAL_INSULIN','TOTAL_BASAL','TOTAL_BOLUS'],\n",
    "      inplace=True)\n",
    "X['HAS_INSULIN_DATA'] = has_insulin"
   ]
  },
  {
   "cell_type": "markdown",
   "id": "42b49834",
   "metadata": {},
   "source": [
    "### Create the prediction variable"
   ]
  },
  {
   "cell_type": "code",
   "execution_count": 60,
   "id": "056404c5",
   "metadata": {},
   "outputs": [],
   "source": [
    "# We will predict whether the average GRI over the next 2 weeks will be > 40\n",
    "# Values above 40 are classified as Zone C\n",
    "y = (X.GRI_FUTURE_2WK > 40).astype(int)"
   ]
  },
  {
   "cell_type": "code",
   "execution_count": 61,
   "id": "4ebc0a81",
   "metadata": {},
   "outputs": [
    {
     "data": {
      "text/plain": [
       "0    2404\n",
       "1    1726\n",
       "Name: GRI_FUTURE_2WK, dtype: int64"
      ]
     },
     "execution_count": 61,
     "metadata": {},
     "output_type": "execute_result"
    }
   ],
   "source": [
    "y.value_counts()\n",
    "# Approximately 40% of users will be above this threshold "
   ]
  },
  {
   "cell_type": "code",
   "execution_count": 62,
   "id": "2262671e",
   "metadata": {},
   "outputs": [],
   "source": [
    "# We save the future data in a separate variable for later use\n",
    "future_data = X['GRI_FUTURE_2WK']"
   ]
  },
  {
   "cell_type": "code",
   "execution_count": 63,
   "id": "93ee5668",
   "metadata": {},
   "outputs": [],
   "source": [
    "# We remove the future data from X\n",
    "X = X.drop(columns='GRI_FUTURE_2WK')"
   ]
  },
  {
   "cell_type": "code",
   "execution_count": 64,
   "id": "0a425b79",
   "metadata": {},
   "outputs": [
    {
     "data": {
      "text/plain": [
       "2"
      ]
     },
     "execution_count": 64,
     "metadata": {},
     "output_type": "execute_result"
    }
   ],
   "source": [
    "# There are a couple NaNs\n",
    "X['HAS_REMOTE_CGM_DATA'].isna().sum()"
   ]
  },
  {
   "cell_type": "code",
   "execution_count": 65,
   "id": "03d539e2",
   "metadata": {},
   "outputs": [],
   "source": [
    "# We will fill the NaNs with False values\n",
    "X.fillna(False, inplace=True);"
   ]
  },
  {
   "cell_type": "code",
   "execution_count": 66,
   "id": "8429b872",
   "metadata": {},
   "outputs": [],
   "source": [
    "# And change the booleans to 0's and 1's\n",
    "var_convert = ['HAS_REMOTE_SMBG_DATA', 'HAS_REMOTE_CGM_DATA',\n",
    "               'HAS_REMOTE_INSULIN_DATA', 'HAS_IN_CLINIC_SYNC',\n",
    "               'HAS_CGM','HAS_PUMP','HAS_METER','HAS_OTHER_COUNT']\n",
    "for var in var_convert:\n",
    "    X[var] = (X[var]).astype(int)\n",
    "    "
   ]
  },
  {
   "cell_type": "code",
   "execution_count": 67,
   "id": "684ae52a",
   "metadata": {},
   "outputs": [],
   "source": [
    "# And change Gender so that Male = 1 and Female = 0\n",
    "X[\"GENDER\"].replace([\"male\",\"female\"], [1,0], inplace=True)"
   ]
  },
  {
   "cell_type": "code",
   "execution_count": 68,
   "id": "4e8ba878",
   "metadata": {},
   "outputs": [
    {
     "data": {
      "text/plain": [
       "(4130, 126)"
      ]
     },
     "execution_count": 68,
     "metadata": {},
     "output_type": "execute_result"
    }
   ],
   "source": [
    "X.shape"
   ]
  },
  {
   "cell_type": "code",
   "execution_count": 69,
   "id": "1e07843e",
   "metadata": {},
   "outputs": [
    {
     "data": {
      "text/html": [
       "<div>\n",
       "<style scoped>\n",
       "    .dataframe tbody tr th:only-of-type {\n",
       "        vertical-align: middle;\n",
       "    }\n",
       "\n",
       "    .dataframe tbody tr th {\n",
       "        vertical-align: top;\n",
       "    }\n",
       "\n",
       "    .dataframe thead th {\n",
       "        text-align: right;\n",
       "    }\n",
       "</style>\n",
       "<table border=\"1\" class=\"dataframe\">\n",
       "  <thead>\n",
       "    <tr style=\"text-align: right;\">\n",
       "      <th></th>\n",
       "      <th>HAS_REMOTE_SMBG_DATA</th>\n",
       "      <th>HAS_REMOTE_CGM_DATA</th>\n",
       "      <th>HAS_REMOTE_INSULIN_DATA</th>\n",
       "      <th>HAS_IN_CLINIC_SYNC</th>\n",
       "      <th>GENDER</th>\n",
       "      <th>CURRENT_AGE</th>\n",
       "      <th>HAS_CGM</th>\n",
       "      <th>HAS_PUMP</th>\n",
       "      <th>HAS_METER</th>\n",
       "      <th>SYNC_COUNT</th>\n",
       "      <th>...</th>\n",
       "      <th>GRI_12</th>\n",
       "      <th>GRI_13</th>\n",
       "      <th>TIME_CGM_ACTIVE_avg2wk</th>\n",
       "      <th>AVERAGE_VALUE_avg2wk</th>\n",
       "      <th>ABOVE_250_avg2wk</th>\n",
       "      <th>BELOW_54_avg2wk</th>\n",
       "      <th>LOWEST_VALUE_avg2wk</th>\n",
       "      <th>HIGHEST_VALUE_avg2wk</th>\n",
       "      <th>GRI_avg2wk</th>\n",
       "      <th>HAS_INSULIN_DATA</th>\n",
       "    </tr>\n",
       "  </thead>\n",
       "  <tbody>\n",
       "    <tr>\n",
       "      <th>0</th>\n",
       "      <td>0</td>\n",
       "      <td>1</td>\n",
       "      <td>1</td>\n",
       "      <td>0</td>\n",
       "      <td>1</td>\n",
       "      <td>57</td>\n",
       "      <td>1</td>\n",
       "      <td>1</td>\n",
       "      <td>0</td>\n",
       "      <td>1209</td>\n",
       "      <td>...</td>\n",
       "      <td>100.832</td>\n",
       "      <td>85.560</td>\n",
       "      <td>0.992560</td>\n",
       "      <td>235.341072</td>\n",
       "      <td>41.626429</td>\n",
       "      <td>0.000000</td>\n",
       "      <td>129.928571</td>\n",
       "      <td>328.000000</td>\n",
       "      <td>98.278286</td>\n",
       "      <td>0</td>\n",
       "    </tr>\n",
       "    <tr>\n",
       "      <th>1</th>\n",
       "      <td>0</td>\n",
       "      <td>1</td>\n",
       "      <td>0</td>\n",
       "      <td>0</td>\n",
       "      <td>0</td>\n",
       "      <td>47</td>\n",
       "      <td>1</td>\n",
       "      <td>1</td>\n",
       "      <td>0</td>\n",
       "      <td>895</td>\n",
       "      <td>...</td>\n",
       "      <td>45.080</td>\n",
       "      <td>44.568</td>\n",
       "      <td>0.724454</td>\n",
       "      <td>229.794895</td>\n",
       "      <td>34.435714</td>\n",
       "      <td>0.000000</td>\n",
       "      <td>144.357143</td>\n",
       "      <td>314.285714</td>\n",
       "      <td>76.854857</td>\n",
       "      <td>0</td>\n",
       "    </tr>\n",
       "    <tr>\n",
       "      <th>2</th>\n",
       "      <td>0</td>\n",
       "      <td>1</td>\n",
       "      <td>0</td>\n",
       "      <td>0</td>\n",
       "      <td>0</td>\n",
       "      <td>18</td>\n",
       "      <td>1</td>\n",
       "      <td>1</td>\n",
       "      <td>0</td>\n",
       "      <td>1694</td>\n",
       "      <td>...</td>\n",
       "      <td>86.934</td>\n",
       "      <td>25.840</td>\n",
       "      <td>0.969246</td>\n",
       "      <td>161.175960</td>\n",
       "      <td>8.502857</td>\n",
       "      <td>1.960714</td>\n",
       "      <td>51.142857</td>\n",
       "      <td>299.857143</td>\n",
       "      <td>58.726714</td>\n",
       "      <td>0</td>\n",
       "    </tr>\n",
       "    <tr>\n",
       "      <th>3</th>\n",
       "      <td>0</td>\n",
       "      <td>1</td>\n",
       "      <td>0</td>\n",
       "      <td>0</td>\n",
       "      <td>0</td>\n",
       "      <td>28</td>\n",
       "      <td>1</td>\n",
       "      <td>1</td>\n",
       "      <td>1</td>\n",
       "      <td>1794</td>\n",
       "      <td>...</td>\n",
       "      <td>25.748</td>\n",
       "      <td>20.072</td>\n",
       "      <td>0.982143</td>\n",
       "      <td>119.962507</td>\n",
       "      <td>0.797143</td>\n",
       "      <td>0.371429</td>\n",
       "      <td>60.000000</td>\n",
       "      <td>220.000000</td>\n",
       "      <td>16.206857</td>\n",
       "      <td>1</td>\n",
       "    </tr>\n",
       "    <tr>\n",
       "      <th>4</th>\n",
       "      <td>0</td>\n",
       "      <td>1</td>\n",
       "      <td>0</td>\n",
       "      <td>0</td>\n",
       "      <td>0</td>\n",
       "      <td>31</td>\n",
       "      <td>1</td>\n",
       "      <td>1</td>\n",
       "      <td>0</td>\n",
       "      <td>1072</td>\n",
       "      <td>...</td>\n",
       "      <td>87.350</td>\n",
       "      <td>65.066</td>\n",
       "      <td>0.909722</td>\n",
       "      <td>158.483504</td>\n",
       "      <td>10.853571</td>\n",
       "      <td>2.951429</td>\n",
       "      <td>52.500000</td>\n",
       "      <td>287.071429</td>\n",
       "      <td>59.656000</td>\n",
       "      <td>0</td>\n",
       "    </tr>\n",
       "  </tbody>\n",
       "</table>\n",
       "<p>5 rows × 126 columns</p>\n",
       "</div>"
      ],
      "text/plain": [
       "   HAS_REMOTE_SMBG_DATA  HAS_REMOTE_CGM_DATA  HAS_REMOTE_INSULIN_DATA  \\\n",
       "0                     0                    1                        1   \n",
       "1                     0                    1                        0   \n",
       "2                     0                    1                        0   \n",
       "3                     0                    1                        0   \n",
       "4                     0                    1                        0   \n",
       "\n",
       "   HAS_IN_CLINIC_SYNC  GENDER  CURRENT_AGE  HAS_CGM  HAS_PUMP  HAS_METER  \\\n",
       "0                   0       1           57        1         1          0   \n",
       "1                   0       0           47        1         1          0   \n",
       "2                   0       0           18        1         1          0   \n",
       "3                   0       0           28        1         1          1   \n",
       "4                   0       0           31        1         1          0   \n",
       "\n",
       "   SYNC_COUNT  ...   GRI_12  GRI_13  TIME_CGM_ACTIVE_avg2wk  \\\n",
       "0        1209  ...  100.832  85.560                0.992560   \n",
       "1         895  ...   45.080  44.568                0.724454   \n",
       "2        1694  ...   86.934  25.840                0.969246   \n",
       "3        1794  ...   25.748  20.072                0.982143   \n",
       "4        1072  ...   87.350  65.066                0.909722   \n",
       "\n",
       "   AVERAGE_VALUE_avg2wk  ABOVE_250_avg2wk  BELOW_54_avg2wk  \\\n",
       "0            235.341072         41.626429         0.000000   \n",
       "1            229.794895         34.435714         0.000000   \n",
       "2            161.175960          8.502857         1.960714   \n",
       "3            119.962507          0.797143         0.371429   \n",
       "4            158.483504         10.853571         2.951429   \n",
       "\n",
       "   LOWEST_VALUE_avg2wk  HIGHEST_VALUE_avg2wk  GRI_avg2wk  HAS_INSULIN_DATA  \n",
       "0           129.928571            328.000000   98.278286                 0  \n",
       "1           144.357143            314.285714   76.854857                 0  \n",
       "2            51.142857            299.857143   58.726714                 0  \n",
       "3            60.000000            220.000000   16.206857                 1  \n",
       "4            52.500000            287.071429   59.656000                 0  \n",
       "\n",
       "[5 rows x 126 columns]"
      ]
     },
     "execution_count": 69,
     "metadata": {},
     "output_type": "execute_result"
    }
   ],
   "source": [
    "X.head()"
   ]
  },
  {
   "cell_type": "markdown",
   "id": "0ab2f28d",
   "metadata": {},
   "source": [
    "### Split data into train and test sets"
   ]
  },
  {
   "cell_type": "code",
   "execution_count": 70,
   "id": "cfd62edc",
   "metadata": {},
   "outputs": [],
   "source": [
    "from sklearn.model_selection import train_test_split\n",
    "\n",
    "X_train, X_test, y_train, y_test = train_test_split(\n",
    "    X,y,random_state=42, test_size=0.2)"
   ]
  },
  {
   "cell_type": "markdown",
   "id": "b845270b",
   "metadata": {},
   "source": [
    "### View feature correlation\n",
    "And we will remove highly correlated features"
   ]
  },
  {
   "cell_type": "code",
   "execution_count": 71,
   "id": "2556e83c",
   "metadata": {},
   "outputs": [
    {
     "data": {
      "image/png": "[encoded data removed]",
      "text/plain": [
       "<Figure size 864x720 with 2 Axes>"
      ]
     },
     "metadata": {},
     "output_type": "display_data"
    }
   ],
   "source": [
    "import matplotlib.pyplot as plt\n",
    "import seaborn as sns\n",
    "\n",
    "plt.figure(figsize=(12, 10))\n",
    "cor = X_train.corr()\n",
    "sns.heatmap(cor, vmin=-1, vmax=1, cmap=\"PiYG\");"
   ]
  },
  {
   "cell_type": "code",
   "execution_count": 72,
   "id": "1d2d5090",
   "metadata": {},
   "outputs": [],
   "source": [
    "import numpy as np\n",
    "keep_columns = np.full(cor.shape[0], True)\n",
    "for i in range(cor.shape[0] - 1):\n",
    "    for j in range(i + 1, cor.shape[0] - 1):\n",
    "        if (np.abs(cor.iloc[i, j]) >= 0.8): # 0.8 is the correlation threshold\n",
    "            keep_columns[j] = False\n",
    "selected_columns = X_train.columns[keep_columns]\n",
    "X_train_reduced = X_train[selected_columns]"
   ]
  },
  {
   "cell_type": "code",
   "execution_count": 73,
   "id": "6fbe094a",
   "metadata": {},
   "outputs": [
    {
     "data": {
      "text/plain": [
       "(3304, 79)"
      ]
     },
     "execution_count": 73,
     "metadata": {},
     "output_type": "execute_result"
    }
   ],
   "source": [
    "X_train_reduced.shape"
   ]
  },
  {
   "cell_type": "code",
   "execution_count": 74,
   "id": "e33bd625",
   "metadata": {},
   "outputs": [],
   "source": [
    "# We also want to keep the 2-week average GRI variable if it is dropped\n",
    "ind = [i for i, x in enumerate(X_train.columns == 'GRI_avg2wk') if x] \n",
    "keep_columns[ind] = True\n",
    "selected_columns = X_train.columns[keep_columns]\n",
    "X_train_reduced = X_train[selected_columns]"
   ]
  },
  {
   "cell_type": "code",
   "execution_count": 75,
   "id": "4bd21c7d",
   "metadata": {},
   "outputs": [],
   "source": [
    "X_test_reduced = X_test[selected_columns]"
   ]
  },
  {
   "cell_type": "code",
   "execution_count": 76,
   "id": "8ee12f45",
   "metadata": {},
   "outputs": [
    {
     "name": "stdout",
     "output_type": "stream",
     "text": [
      "The feature set has been reduced to 80 features from 126 features.\n"
     ]
    }
   ],
   "source": [
    "print(\"The feature set has been reduced to \" + \n",
    "      f\"{X_train_reduced.shape[1]} features \" +\n",
    "      f\"from {X.shape[1]} features.\")"
   ]
  },
  {
   "cell_type": "code",
   "execution_count": 77,
   "id": "c9183a5a",
   "metadata": {},
   "outputs": [
    {
     "data": {
      "text/plain": [
       "Index(['HAS_REMOTE_SMBG_DATA', 'HAS_REMOTE_CGM_DATA',\n",
       "       'HAS_REMOTE_INSULIN_DATA', 'HAS_IN_CLINIC_SYNC', 'GENDER',\n",
       "       'CURRENT_AGE', 'HAS_CGM', 'HAS_PUMP', 'HAS_METER', 'SYNC_COUNT',\n",
       "       'APP_LENGTH', 'HAS_OTHER_COUNT', 'c4c', 'kiosk', 'logbook',\n",
       "       'patient_uploader', 'server', 'android', 'browser', 'ios',\n",
       "       'TIME_CGM_ACTIVE_0', 'TIME_CGM_ACTIVE_1', 'TIME_CGM_ACTIVE_2',\n",
       "       'TIME_CGM_ACTIVE_3', 'TIME_CGM_ACTIVE_4', 'TIME_CGM_ACTIVE_5',\n",
       "       'TIME_CGM_ACTIVE_6', 'TIME_CGM_ACTIVE_7', 'TIME_CGM_ACTIVE_8',\n",
       "       'TIME_CGM_ACTIVE_9', 'TIME_CGM_ACTIVE_10', 'TIME_CGM_ACTIVE_11',\n",
       "       'TIME_CGM_ACTIVE_12', 'TIME_CGM_ACTIVE_13', 'AVERAGE_VALUE_0',\n",
       "       'AVERAGE_VALUE_1', 'AVERAGE_VALUE_2', 'AVERAGE_VALUE_3',\n",
       "       'AVERAGE_VALUE_4', 'AVERAGE_VALUE_5', 'AVERAGE_VALUE_6',\n",
       "       'AVERAGE_VALUE_7', 'AVERAGE_VALUE_8', 'AVERAGE_VALUE_9',\n",
       "       'AVERAGE_VALUE_10', 'AVERAGE_VALUE_11', 'AVERAGE_VALUE_12',\n",
       "       'AVERAGE_VALUE_13', 'BELOW_54_0', 'BELOW_54_1', 'BELOW_54_2',\n",
       "       'BELOW_54_3', 'BELOW_54_4', 'BELOW_54_5', 'BELOW_54_6', 'BELOW_54_7',\n",
       "       'BELOW_54_8', 'BELOW_54_9', 'BELOW_54_10', 'BELOW_54_11', 'BELOW_54_12',\n",
       "       'BELOW_54_13', 'LOWEST_VALUE_0', 'LOWEST_VALUE_1', 'LOWEST_VALUE_2',\n",
       "       'LOWEST_VALUE_3', 'LOWEST_VALUE_4', 'LOWEST_VALUE_5', 'LOWEST_VALUE_6',\n",
       "       'LOWEST_VALUE_7', 'LOWEST_VALUE_8', 'LOWEST_VALUE_9', 'LOWEST_VALUE_10',\n",
       "       'LOWEST_VALUE_11', 'LOWEST_VALUE_12', 'LOWEST_VALUE_13',\n",
       "       'BELOW_54_avg2wk', 'LOWEST_VALUE_avg2wk', 'GRI_avg2wk',\n",
       "       'HAS_INSULIN_DATA'],\n",
       "      dtype='object')"
      ]
     },
     "execution_count": 77,
     "metadata": {},
     "output_type": "execute_result"
    }
   ],
   "source": [
    "X_train_reduced.columns"
   ]
  },
  {
   "cell_type": "code",
   "execution_count": 78,
   "id": "fdd3130e",
   "metadata": {},
   "outputs": [
    {
     "data": {
      "text/plain": [
       "Index(['HAS_REMOTE_SMBG_DATA', 'HAS_REMOTE_CGM_DATA',\n",
       "       'HAS_REMOTE_INSULIN_DATA', 'HAS_IN_CLINIC_SYNC', 'GENDER',\n",
       "       'CURRENT_AGE', 'HAS_CGM', 'HAS_PUMP', 'HAS_METER', 'SYNC_COUNT',\n",
       "       'APP_LENGTH', 'HAS_OTHER_COUNT', 'c4c', 'kiosk', 'logbook',\n",
       "       'patient_uploader', 'server', 'android', 'browser', 'ios',\n",
       "       'TIME_CGM_ACTIVE_0', 'TIME_CGM_ACTIVE_1', 'TIME_CGM_ACTIVE_2',\n",
       "       'TIME_CGM_ACTIVE_3', 'TIME_CGM_ACTIVE_4', 'TIME_CGM_ACTIVE_5',\n",
       "       'TIME_CGM_ACTIVE_6', 'TIME_CGM_ACTIVE_7', 'TIME_CGM_ACTIVE_8',\n",
       "       'TIME_CGM_ACTIVE_9', 'TIME_CGM_ACTIVE_10', 'TIME_CGM_ACTIVE_11',\n",
       "       'TIME_CGM_ACTIVE_12', 'TIME_CGM_ACTIVE_13', 'AVERAGE_VALUE_0',\n",
       "       'AVERAGE_VALUE_1', 'AVERAGE_VALUE_2', 'AVERAGE_VALUE_3',\n",
       "       'AVERAGE_VALUE_4', 'AVERAGE_VALUE_5', 'AVERAGE_VALUE_6',\n",
       "       'AVERAGE_VALUE_7', 'AVERAGE_VALUE_8', 'AVERAGE_VALUE_9',\n",
       "       'AVERAGE_VALUE_10', 'AVERAGE_VALUE_11', 'AVERAGE_VALUE_12',\n",
       "       'AVERAGE_VALUE_13', 'ABOVE_250_0', 'ABOVE_250_1', 'ABOVE_250_2',\n",
       "       'ABOVE_250_3', 'ABOVE_250_4', 'ABOVE_250_5', 'ABOVE_250_6',\n",
       "       'ABOVE_250_7', 'ABOVE_250_8', 'ABOVE_250_9', 'ABOVE_250_10',\n",
       "       'ABOVE_250_11', 'ABOVE_250_12', 'ABOVE_250_13', 'BELOW_54_0',\n",
       "       'BELOW_54_1', 'BELOW_54_2', 'BELOW_54_3', 'BELOW_54_4', 'BELOW_54_5',\n",
       "       'BELOW_54_6', 'BELOW_54_7'],\n",
       "      dtype='object')"
      ]
     },
     "execution_count": 78,
     "metadata": {},
     "output_type": "execute_result"
    }
   ],
   "source": [
    "X_train.columns[:70]"
   ]
  },
  {
   "cell_type": "code",
   "execution_count": 79,
   "id": "c33d3a94",
   "metadata": {},
   "outputs": [
    {
     "data": {
      "text/plain": [
       "Index(['BELOW_54_8', 'BELOW_54_9', 'BELOW_54_10', 'BELOW_54_11', 'BELOW_54_12',\n",
       "       'BELOW_54_13', 'LOWEST_VALUE_0', 'LOWEST_VALUE_1', 'LOWEST_VALUE_2',\n",
       "       'LOWEST_VALUE_3', 'LOWEST_VALUE_4', 'LOWEST_VALUE_5', 'LOWEST_VALUE_6',\n",
       "       'LOWEST_VALUE_7', 'LOWEST_VALUE_8', 'LOWEST_VALUE_9', 'LOWEST_VALUE_10',\n",
       "       'LOWEST_VALUE_11', 'LOWEST_VALUE_12', 'LOWEST_VALUE_13',\n",
       "       'HIGHEST_VALUE_0', 'HIGHEST_VALUE_1', 'HIGHEST_VALUE_2',\n",
       "       'HIGHEST_VALUE_3', 'HIGHEST_VALUE_4', 'HIGHEST_VALUE_5',\n",
       "       'HIGHEST_VALUE_6', 'HIGHEST_VALUE_7', 'HIGHEST_VALUE_8',\n",
       "       'HIGHEST_VALUE_9', 'HIGHEST_VALUE_10', 'HIGHEST_VALUE_11',\n",
       "       'HIGHEST_VALUE_12', 'HIGHEST_VALUE_13', 'GRI_0', 'GRI_1', 'GRI_2',\n",
       "       'GRI_3', 'GRI_4', 'GRI_5', 'GRI_6', 'GRI_7', 'GRI_8', 'GRI_9', 'GRI_10',\n",
       "       'GRI_11', 'GRI_12', 'GRI_13', 'TIME_CGM_ACTIVE_avg2wk',\n",
       "       'AVERAGE_VALUE_avg2wk', 'ABOVE_250_avg2wk', 'BELOW_54_avg2wk',\n",
       "       'LOWEST_VALUE_avg2wk', 'HIGHEST_VALUE_avg2wk', 'GRI_avg2wk',\n",
       "       'HAS_INSULIN_DATA'],\n",
       "      dtype='object')"
      ]
     },
     "execution_count": 79,
     "metadata": {},
     "output_type": "execute_result"
    }
   ],
   "source": [
    "X_train.columns[70:]"
   ]
  },
  {
   "cell_type": "markdown",
   "id": "429c621b",
   "metadata": {},
   "source": [
    "### Create a couple functions for visualizing results"
   ]
  },
  {
   "cell_type": "code",
   "execution_count": 80,
   "id": "107790db",
   "metadata": {},
   "outputs": [],
   "source": [
    "# Load the tools needed for model evaluation\n",
    "from sklearn.metrics import classification_report, confusion_matrix, accuracy_score"
   ]
  },
  {
   "cell_type": "code",
   "execution_count": 81,
   "id": "a4b8eb5c",
   "metadata": {},
   "outputs": [],
   "source": [
    "# Function to print the accuracy and classification report\n",
    "def print_acc_and_CR(y_test, model_predictions):\n",
    "    # Calculate and display the model accuracy\n",
    "    print('Accuracy: {:.2f}%'.format(accuracy_score(y_test, model_predictions) * 100))\n",
    "    # Calculate and display the classification report for the model\n",
    "    print('Classification report: \\n', classification_report(y_test, model_predictions))"
   ]
  },
  {
   "cell_type": "code",
   "execution_count": 82,
   "id": "bb5af0d3",
   "metadata": {},
   "outputs": [],
   "source": [
    "# Function to display the confusion matrix\n",
    "def display_confusion_matrix(y_test, model_predictions):\n",
    "    # Calculate and display the confusion matrix\n",
    "    model_confusionMatrix = confusion_matrix(y_test, model_predictions)\n",
    "    # Create variables that will be displayed as text on the plot\n",
    "    strings2 = np.asarray([['True Negatives \\n', 'False Positives \\n'], ['False Negatives \\n', 'True Positives \\n']])\n",
    "    labels2 = (np.asarray([\"{0} {1:g}\".format(string, value)\n",
    "                          for string, value in zip(strings2.flatten(),model_confusionMatrix.flatten())])\n",
    "             ).reshape(2, 2)\n",
    "    # Use a heat map plot to display the results\n",
    "    sns.heatmap(model_confusionMatrix, annot=labels2, fmt='', vmin=0, annot_kws={\"fontsize\":17})\n",
    "    plt.xlabel('Predicted value');\n",
    "    plt.ylabel('Actual value');"
   ]
  },
  {
   "cell_type": "markdown",
   "id": "028b6a64",
   "metadata": {},
   "source": [
    "### Check the performance of a super basic model\n",
    "Where we assume users with GRI below 40 will stay below 40 and users with GRI above 40 will stay above 40 (i.e., no change in GRI in the future)."
   ]
  },
  {
   "cell_type": "code",
   "execution_count": 83,
   "id": "f981c521",
   "metadata": {},
   "outputs": [],
   "source": [
    "basic_predictions = X_test_reduced['GRI_avg2wk'] > 40"
   ]
  },
  {
   "cell_type": "code",
   "execution_count": 84,
   "id": "da27bac2",
   "metadata": {},
   "outputs": [
    {
     "name": "stdout",
     "output_type": "stream",
     "text": [
      "Accuracy: 86.32%\n",
      "Classification report: \n",
      "               precision    recall  f1-score   support\n",
      "\n",
      "           0       0.87      0.89      0.88       461\n",
      "           1       0.85      0.84      0.84       365\n",
      "\n",
      "    accuracy                           0.86       826\n",
      "   macro avg       0.86      0.86      0.86       826\n",
      "weighted avg       0.86      0.86      0.86       826\n",
      "\n"
     ]
    }
   ],
   "source": [
    "print_acc_and_CR(y_test, basic_predictions)"
   ]
  },
  {
   "cell_type": "code",
   "execution_count": 85,
   "id": "b34212c4",
   "metadata": {},
   "outputs": [
    {
     "data": {
      "image/png": "[encoded data removed]",
      "text/plain": [
       "<Figure size 432x288 with 2 Axes>"
      ]
     },
     "metadata": {},
     "output_type": "display_data"
    }
   ],
   "source": [
    "display_confusion_matrix(y_test, basic_predictions)"
   ]
  },
  {
   "cell_type": "code",
   "execution_count": 86,
   "id": "efec1318",
   "metadata": {},
   "outputs": [],
   "source": [
    "fraction_users_crossing_GRI_40 = (53 + 60) / len(y_test)"
   ]
  },
  {
   "cell_type": "markdown",
   "id": "8af807d6",
   "metadata": {},
   "source": [
    "Only about 14% of users cross the GRI = 40 threshold from the average for the past to the future 2 week time periods. This is a small amount of the total numbe rof users, indicating that most users stay in a similar GRI range. It also indicates that we should expect to get most of our ML models predictive power out of this single variable (`GRI_avg2wk`)."
   ]
  },
  {
   "cell_type": "markdown",
   "id": "59c6bc03",
   "metadata": {},
   "source": [
    "###  Fit a Random Forest Classifier"
   ]
  },
  {
   "cell_type": "code",
   "execution_count": 87,
   "id": "11c359fc",
   "metadata": {},
   "outputs": [],
   "source": [
    "from sklearn.ensemble import RandomForestClassifier\n",
    "from sklearn import linear_model\n",
    "\n",
    "# Instantiate and fit the model\n",
    "rfc = RandomForestClassifier(random_state=0)\n",
    "rfc.fit(X_train_reduced, y_train)\n",
    "\n",
    "# Use the model to predict diabetes type\n",
    "rfc_predictions = rfc.predict(X_test_reduced)"
   ]
  },
  {
   "cell_type": "code",
   "execution_count": 88,
   "id": "d14056ca",
   "metadata": {},
   "outputs": [
    {
     "name": "stdout",
     "output_type": "stream",
     "text": [
      "Accuracy: 86.92%\n",
      "Classification report: \n",
      "               precision    recall  f1-score   support\n",
      "\n",
      "           0       0.88      0.88      0.88       461\n",
      "           1       0.85      0.85      0.85       365\n",
      "\n",
      "    accuracy                           0.87       826\n",
      "   macro avg       0.87      0.87      0.87       826\n",
      "weighted avg       0.87      0.87      0.87       826\n",
      "\n"
     ]
    }
   ],
   "source": [
    "print_acc_and_CR(y_test, rfc_predictions)"
   ]
  },
  {
   "cell_type": "code",
   "execution_count": 89,
   "id": "0253e2ce",
   "metadata": {},
   "outputs": [
    {
     "data": {
      "image/png": "[encoded data removed]",
      "text/plain": [
       "<Figure size 432x288 with 2 Axes>"
      ]
     },
     "metadata": {},
     "output_type": "display_data"
    }
   ],
   "source": [
    "display_confusion_matrix(y_test, rfc_predictions)"
   ]
  },
  {
   "cell_type": "code",
   "execution_count": 90,
   "id": "a9d0dda8",
   "metadata": {},
   "outputs": [
    {
     "name": "stdout",
     "output_type": "stream",
     "text": [
      "Feature ranking:\n",
      "1. GRI_avg2wk (feature 78) (0.209625)\n",
      "2. AVERAGE_VALUE_0 (feature 34) (0.070902)\n",
      "3. AVERAGE_VALUE_1 (feature 35) (0.044240)\n",
      "4. AVERAGE_VALUE_2 (feature 36) (0.041567)\n",
      "5. AVERAGE_VALUE_12 (feature 46) (0.037425)\n",
      "6. AVERAGE_VALUE_5 (feature 39) (0.037363)\n",
      "7. AVERAGE_VALUE_3 (feature 37) (0.036208)\n",
      "8. AVERAGE_VALUE_8 (feature 42) (0.035234)\n",
      "9. AVERAGE_VALUE_9 (feature 43) (0.034251)\n",
      "10. AVERAGE_VALUE_13 (feature 47) (0.030140)\n",
      "11. AVERAGE_VALUE_6 (feature 40) (0.029346)\n",
      "12. AVERAGE_VALUE_10 (feature 44) (0.025226)\n",
      "13. AVERAGE_VALUE_4 (feature 38) (0.024881)\n",
      "14. AVERAGE_VALUE_11 (feature 45) (0.024741)\n",
      "15. AVERAGE_VALUE_7 (feature 41) (0.022315)\n",
      "16. BELOW_54_avg2wk (feature 76) (0.015694)\n",
      "17. LOWEST_VALUE_avg2wk (feature 77) (0.013761)\n",
      "18. LOWEST_VALUE_8 (feature 70) (0.011641)\n",
      "19. LOWEST_VALUE_6 (feature 68) (0.010170)\n",
      "20. LOWEST_VALUE_0 (feature 62) (0.009773)\n"
     ]
    },
    {
     "data": {
      "image/png": "[encoded data removed]",
      "text/plain": [
       "<Figure size 432x288 with 1 Axes>"
      ]
     },
     "metadata": {},
     "output_type": "display_data"
    }
   ],
   "source": [
    "# Set a number of features to consider when looking at rank/importance\n",
    "n_features = 20\n",
    "\n",
    "# Use Random Forest to get feature ranks/importances for each feature\n",
    "importances = rfc.feature_importances_\n",
    "std = np.std([tree.feature_importances_ for tree in rfc.estimators_],\n",
    "             axis=0)\n",
    "indices = np.argsort(importances)[::-1]\n",
    "\n",
    "# Print the feature ranking\n",
    "print(\"Feature ranking:\")\n",
    "\n",
    "# Look at importance for first 20 features\n",
    "for f in range(n_features):#range(X_train_reduced.shape[1]):\n",
    "    print(\"%d. %s (feature %d) (%f)\" %\n",
    "          (f + 1, X_train_reduced.columns[indices[f]], indices[f], importances[indices[f]]))\n",
    "\n",
    "# Plot the impurity-based feature importances of the forest\n",
    "plt.figure()\n",
    "plt.title(\"Feature importances\")\n",
    "plt.bar(range(n_features), importances[indices[:n_features]],\n",
    "        color=\"r\", yerr=std[indices[:n_features]], align=\"center\")\n",
    "plt.xticks(range(n_features), indices[:n_features])\n",
    "plt.xlim([-1, n_features]);"
   ]
  },
  {
   "cell_type": "markdown",
   "id": "bb947d9c",
   "metadata": {},
   "source": [
    "###  Fit a Logistic Regression Model"
   ]
  },
  {
   "cell_type": "code",
   "execution_count": 91,
   "id": "590e23ef",
   "metadata": {},
   "outputs": [],
   "source": [
    "# Import the tool needed\n",
    "from sklearn.linear_model import LogisticRegression\n",
    "\n",
    "# Instantiate and train the model\n",
    "logregmodel = LogisticRegression(max_iter=100000, class_weight=\"balanced\")\n",
    "logregmodel.fit(X_train_reduced,y_train)\n",
    "\n",
    "# Make predictions\n",
    "logregmodel_predictions = logregmodel.predict(X_test_reduced)"
   ]
  },
  {
   "cell_type": "code",
   "execution_count": 92,
   "id": "6767b02d",
   "metadata": {},
   "outputs": [
    {
     "name": "stdout",
     "output_type": "stream",
     "text": [
      "Accuracy: 86.68%\n",
      "Classification report: \n",
      "               precision    recall  f1-score   support\n",
      "\n",
      "           0       0.89      0.87      0.88       461\n",
      "           1       0.84      0.86      0.85       365\n",
      "\n",
      "    accuracy                           0.87       826\n",
      "   macro avg       0.86      0.87      0.87       826\n",
      "weighted avg       0.87      0.87      0.87       826\n",
      "\n"
     ]
    }
   ],
   "source": [
    "print_acc_and_CR(y_test, logregmodel_predictions)"
   ]
  },
  {
   "cell_type": "code",
   "execution_count": 93,
   "id": "988a99bc",
   "metadata": {},
   "outputs": [
    {
     "data": {
      "image/png": "[encoded data removed]",
      "text/plain": [
       "<Figure size 432x288 with 2 Axes>"
      ]
     },
     "metadata": {},
     "output_type": "display_data"
    }
   ],
   "source": [
    "display_confusion_matrix(y_test, logregmodel_predictions)"
   ]
  },
  {
   "cell_type": "markdown",
   "id": "7a5549f1",
   "metadata": {},
   "source": [
    "The default parameters for the random forest classifier and the logistic regression model give similar performance."
   ]
  },
  {
   "cell_type": "markdown",
   "id": "713f18fa",
   "metadata": {},
   "source": [
    "### K-Fold validation and recursive feature elimination"
   ]
  },
  {
   "cell_type": "code",
   "execution_count": 94,
   "id": "a22c1bbf",
   "metadata": {},
   "outputs": [],
   "source": [
    "# We import the modules we need from sci-kit learn\n",
    "from sklearn.model_selection import StratifiedKFold, cross_val_score\n",
    "from sklearn.feature_selection import RFECV\n",
    "from sklearn.preprocessing import StandardScaler\n",
    "import operator"
   ]
  },
  {
   "cell_type": "code",
   "execution_count": 95,
   "id": "c326a3fc",
   "metadata": {},
   "outputs": [
    {
     "data": {
      "text/plain": [
       "RFECV(cv=StratifiedKFold(n_splits=8, random_state=None, shuffle=False),\n",
       "      estimator=LogisticRegression(max_iter=600), scoring='accuracy')"
      ]
     },
     "execution_count": 95,
     "metadata": {},
     "output_type": "execute_result"
    }
   ],
   "source": [
    "# We will normalize our data first, so that our coefficients will conceptually relate to each variable's importance\n",
    "X_train_std = StandardScaler().fit_transform(X_train_reduced)\n",
    "\n",
    "# Stratified K-Fold is a version of K-Fold that keeps class ratios, we will separate the training data into 8 sets\n",
    "K = 8\n",
    "k_fold = StratifiedKFold(n_splits=K)\n",
    "\n",
    "# Instatiate the logistic regression model\n",
    "# Note that we need to increase the maximum number of iterations from the default to get the analysis to run\n",
    "lr_model = LogisticRegression(max_iter=600)\n",
    "\n",
    "# Run the recursive feature elimination with cross validation analysis and fit the model\n",
    "rfecv = RFECV(estimator=lr_model, step=1, cv=k_fold, scoring='accuracy')\n",
    "rfecv.fit(X_train_std, y_train)"
   ]
  },
  {
   "cell_type": "code",
   "execution_count": 96,
   "id": "f9c1d512",
   "metadata": {},
   "outputs": [
    {
     "name": "stderr",
     "output_type": "stream",
     "text": [
      "/Users/jasonphiltron/opt/anaconda3/lib/python3.9/site-packages/sklearn/utils/deprecation.py:103: FutureWarning: The `grid_scores_` attribute is deprecated in version 1.0 in favor of `cv_results_` and will be removed in version 1.2.\n",
      "  warnings.warn(msg, category=FutureWarning)\n"
     ]
    },
    {
     "data": {
      "image/png": "[encoded data removed]",
      "text/plain": [
       "<Figure size 432x288 with 1 Axes>"
      ]
     },
     "metadata": {},
     "output_type": "display_data"
    }
   ],
   "source": [
    "# Create a plot to show the model accuracy as features are added one at a time\n",
    "plt.figure()\n",
    "plt.title('Recursive Feature Elimination with Logistic Regression')\n",
    "plt.xlabel('Number of selected features')\n",
    "plt.ylabel('{}-Fold Validation Accuracy'.format(K))\n",
    "\n",
    "# The variable grid_scores_ is the list of accuracy scores for the different number of features\n",
    "plt.plot(range(1, len(rfecv.grid_scores_) + 1), \n",
    "         [np.array(x).mean() for x in rfecv.grid_scores_]);\n",
    "#plt.grid(True)\n",
    "plt.xticks(np.arange(1, 65, step=4));"
   ]
  },
  {
   "cell_type": "markdown",
   "id": "d3cb8677",
   "metadata": {},
   "source": [
    "As expected, most of the predictive power is derived from the first feature -- the average GRI over the past 2 weeks. This isn't surprising, since very few users cross the GRI = 40 threshold in the test dataset, as mentioned above. Although we have many features that correspond to previous days' data, none of these features appear to given a significant amount of predictive power on their own. However, if a small amount of predictive power could be gained from multiple features in series, we might expect a gradient boosted algorithm to perform a little better. If there is not significant predictive power in these other features, then a gradient boosted classifier may not provide a better prediction."
   ]
  },
  {
   "cell_type": "markdown",
   "id": "5c2170a6",
   "metadata": {},
   "source": [
    "### Gradient Boosted Classifier"
   ]
  },
  {
   "cell_type": "code",
   "execution_count": 97,
   "id": "e9b3abc1",
   "metadata": {},
   "outputs": [],
   "source": [
    "from xgboost import XGBClassifier\n",
    "\n",
    "# Instantiate and fit the model\n",
    "xgb = XGBClassifier(random_state=42)\n",
    "xgb.fit(X_train_reduced, y_train)\n",
    "\n",
    "# Make predictions\n",
    "xgb_predictions = xgb.predict(X_test_reduced)"
   ]
  },
  {
   "cell_type": "code",
   "execution_count": 98,
   "id": "0cd046cb",
   "metadata": {},
   "outputs": [
    {
     "name": "stdout",
     "output_type": "stream",
     "text": [
      "Accuracy: 85.71%\n",
      "Classification report: \n",
      "               precision    recall  f1-score   support\n",
      "\n",
      "           0       0.86      0.89      0.87       461\n",
      "           1       0.86      0.81      0.83       365\n",
      "\n",
      "    accuracy                           0.86       826\n",
      "   macro avg       0.86      0.85      0.85       826\n",
      "weighted avg       0.86      0.86      0.86       826\n",
      "\n"
     ]
    }
   ],
   "source": [
    "print_acc_and_CR(y_test, xgb_predictions)"
   ]
  },
  {
   "cell_type": "code",
   "execution_count": 99,
   "id": "8ab83534",
   "metadata": {},
   "outputs": [
    {
     "data": {
      "image/png": "[encoded data removed]",
      "text/plain": [
       "<Figure size 432x288 with 2 Axes>"
      ]
     },
     "metadata": {},
     "output_type": "display_data"
    }
   ],
   "source": [
    "display_confusion_matrix(y_test, xgb_predictions)"
   ]
  },
  {
   "cell_type": "markdown",
   "id": "a5c61098",
   "metadata": {},
   "source": [
    "The gradient boosted classifier does not provide any gain over use of logistic regression or random forest classifier ML models. This suggests that the ability to predict future GRI above 40 may be a trivial problem, largely solved by looking at past GRI, or that we have not found features which contain the information needed to create such a prediction."
   ]
  },
  {
   "cell_type": "markdown",
   "id": "58660742",
   "metadata": {},
   "source": [
    "### A quick look at how much GRI changes\n",
    "We'll look at the users than crossed the threshold of GRI = 40, and users overall"
   ]
  },
  {
   "cell_type": "code",
   "execution_count": 100,
   "id": "5a8f6d40",
   "metadata": {},
   "outputs": [],
   "source": [
    "crossing_users_indices = [i for i, x in enumerate(y) if x == 1]"
   ]
  },
  {
   "cell_type": "code",
   "execution_count": 101,
   "id": "4aa185db",
   "metadata": {},
   "outputs": [],
   "source": [
    "GRI_changes_crossing_users = future_data[crossing_users_indices] - \\\n",
    "    X['GRI_avg2wk'][crossing_users_indices]"
   ]
  },
  {
   "cell_type": "code",
   "execution_count": 102,
   "id": "5e0b72ec",
   "metadata": {},
   "outputs": [
    {
     "data": {
      "text/plain": [
       "count    1726.000000\n",
       "mean        1.380259\n",
       "std        12.091505\n",
       "min       -59.122286\n",
       "25%        -5.601107\n",
       "50%         1.709714\n",
       "75%         8.880214\n",
       "max        44.537571\n",
       "dtype: float64"
      ]
     },
     "execution_count": 102,
     "metadata": {},
     "output_type": "execute_result"
    }
   ],
   "source": [
    "GRI_changes_crossing_users.describe()"
   ]
  },
  {
   "cell_type": "code",
   "execution_count": 103,
   "id": "0e7be6bb",
   "metadata": {},
   "outputs": [
    {
     "data": {
      "image/png": "[encoded data removed]",
      "text/plain": [
       "<Figure size 432x288 with 1 Axes>"
      ]
     },
     "metadata": {},
     "output_type": "display_data"
    }
   ],
   "source": [
    "sns.histplot(x=GRI_changes_crossing_users)\n",
    "plt.xlabel('Change in GRI')\n",
    "plt.title('Change in 2 Week Average GRI \\n for users that crossed GRI = 40');"
   ]
  },
  {
   "cell_type": "markdown",
   "id": "a0b6747d",
   "metadata": {},
   "source": [
    "As shown above, for the 1726 users (out of 4130) that cross the GRI = 40 threshold, the average change is small (1.4). However, some users do have large changes in GRI! It will be interesting to try to capture something about those users. Below, we plot a similar histogram of the change in GRI but for all users."
   ]
  },
  {
   "cell_type": "code",
   "execution_count": 104,
   "id": "e0dff32f",
   "metadata": {},
   "outputs": [],
   "source": [
    "GRI_changes_all_users = future_data - X['GRI_avg2wk']"
   ]
  },
  {
   "cell_type": "code",
   "execution_count": 105,
   "id": "662ed21e",
   "metadata": {},
   "outputs": [
    {
     "data": {
      "text/plain": [
       "count    4130.000000\n",
       "mean       -0.111433\n",
       "std         9.864801\n",
       "min       -69.073714\n",
       "25%        -5.417964\n",
       "50%         0.051143\n",
       "75%         5.547179\n",
       "max        44.537571\n",
       "dtype: float64"
      ]
     },
     "execution_count": 105,
     "metadata": {},
     "output_type": "execute_result"
    }
   ],
   "source": [
    "GRI_changes_all_users.describe()"
   ]
  },
  {
   "cell_type": "code",
   "execution_count": 106,
   "id": "1ff351ce",
   "metadata": {},
   "outputs": [
    {
     "data": {
      "image/png": "[encoded data removed]",
      "text/plain": [
       "<Figure size 432x288 with 1 Axes>"
      ]
     },
     "metadata": {},
     "output_type": "display_data"
    }
   ],
   "source": [
    "sns.histplot(x=GRI_changes_all_users)\n",
    "plt.xlabel('Change in GRI')\n",
    "plt.title('Change in 2 Week Average GRI \\n for all users');"
   ]
  },
  {
   "cell_type": "code",
   "execution_count": 107,
   "id": "082523fc",
   "metadata": {},
   "outputs": [
    {
     "data": {
      "text/plain": [
       "0.12033898305084746"
      ]
     },
     "execution_count": 107,
     "metadata": {},
     "output_type": "execute_result"
    }
   ],
   "source": [
    "# Let's calculate the fraction of users that have a GRI that increases by at least 10\n",
    "# this may be something that is more interesting and clinically useful to predict\n",
    "((future_data - X['GRI_avg2wk']) > 10).astype(int).sum() / len(X)"
   ]
  },
  {
   "cell_type": "markdown",
   "id": "9260fedb",
   "metadata": {},
   "source": [
    "### Using autoML to find an optimized model"
   ]
  },
  {
   "cell_type": "code",
   "execution_count": null,
   "id": "fe77dd14",
   "metadata": {},
   "outputs": [],
   "source": [
    "from supervised.automl import AutoML\n",
    "automl = AutoML(algorithms=[\"Extra Trees\",\"Xgboost\",'Random Forest'], \n",
    "                train_ensemble=False, explain_level=2)\n",
    "automl.fit(X_train_reduced, y_train)"
   ]
  },
  {
   "cell_type": "code",
   "execution_count": null,
   "id": "4ed9bea2",
   "metadata": {},
   "outputs": [],
   "source": [
    "auto_pred = automl.predict(X_test)\n",
    "print(\"accuracy:\", accuracy(y_test_new, auto_pred))\n",
    "print(\"precision:\", precision(y_test_new, auto_pred,average = 'macro'))\n",
    "print(\"recall:\", recall(y_test_new, auto_pred,average = 'macro'))\n",
    "print(\"f1 score:\", f1_score(y_test_new, auto_pred,average = 'macro'))\n",
    "print(\"confusion matrix:\")\n",
    "print(confusion_matrix(y_test, auto_pred))"
   ]
  },
  {
   "cell_type": "code",
   "execution_count": null,
   "id": "a4169f5f",
   "metadata": {},
   "outputs": [],
   "source": [
    "automl.get_leaderboard()"
   ]
  },
  {
   "cell_type": "markdown",
   "id": "ab511f7f",
   "metadata": {},
   "source": [
    "### Using TPOT to find an optimized model"
   ]
  },
  {
   "cell_type": "code",
   "execution_count": 75,
   "id": "461787b8",
   "metadata": {},
   "outputs": [
    {
     "data": {
      "application/vnd.jupyter.widget-view+json": {
       "model_id": "",
       "version_major": 2,
       "version_minor": 0
      },
      "text/plain": [
       "Optimization Progress:   0%|          | 0/200 [00:00<?, ?pipeline/s]"
      ]
     },
     "metadata": {},
     "output_type": "display_data"
    },
    {
     "name": "stdout",
     "output_type": "stream",
     "text": [
      "\n",
      "Generation 1 - Current best internal CV score: -0.3240182649839661\n",
      "\n",
      "Generation 2 - Current best internal CV score: nan\n",
      "\n",
      "Generation 3 - Current best internal CV score: nan\n",
      "\n",
      "Generation 4 - Current best internal CV score: nan\n",
      "\n",
      "Best pipeline: GradientBoostingClassifier(input_matrix, learning_rate=0.1, max_depth=2, max_features=1.0, min_samples_leaf=8, min_samples_split=5, n_estimators=100, subsample=0.6500000000000001)\n",
      "CPU times: user 17min 42s, sys: 5min 28s, total: 23min 11s\n",
      "Wall time: 14min 23s\n"
     ]
    },
    {
     "data": {
      "text/plain": [
       "TPOTClassifier(generations=4, population_size=40, random_state=42,\n",
       "               scoring='neg_log_loss', verbosity=2)"
      ]
     },
     "execution_count": 75,
     "metadata": {},
     "output_type": "execute_result"
    }
   ],
   "source": [
    "%%time\n",
    "from tpot import TPOTClassifier\n",
    "tpot = TPOTClassifier(generations=4, # set to 4 to run faster for testing\n",
    "                     population_size=40,\n",
    "                     scoring='neg_log_loss',\n",
    "                     verbosity=2,\n",
    "                     random_state=42)\n",
    "tpot.fit(X_train_reduced, y_train)"
   ]
  },
  {
   "cell_type": "code",
   "execution_count": 76,
   "id": "a850415c",
   "metadata": {},
   "outputs": [
    {
     "name": "stdout",
     "output_type": "stream",
     "text": [
      "TPOT score on test data: -0.35\n"
     ]
    }
   ],
   "source": [
    "print(f\"TPOT score on test data: {tpot.score(X_test_reduced, y_test):.2f}\")\n",
    "tpot.export('tpot_GRI_pipeline.py')"
   ]
  },
  {
   "cell_type": "markdown",
   "id": "a7765913",
   "metadata": {},
   "source": [
    "### Concluding remarks"
   ]
  },
  {
   "cell_type": "markdown",
   "id": "21b79b99",
   "metadata": {},
   "source": [
    "1. Glycemic risk depends on many factors and can undergo large variations in short time periods because the underlying glucose measurements that the calculation for GRI is based on are highly variable.\n",
    "2. Several base ML models were created to predict whether an average Glycemic Risk Indicator (GRI) score for a future 2-week period would be above 40, based on the prior 2 weeks of CGM data. These models all gave an accuracy in the low to mid-80% range.\n",
    "3. TPOT was also used to find an optimal model (runtime ~1 hour) via autoML algorithms."
   ]
  },
  {
   "cell_type": "markdown",
   "id": "21c89e26",
   "metadata": {},
   "source": [
    "### Future work"
   ]
  },
  {
   "cell_type": "markdown",
   "id": "8411f0d5",
   "metadata": {},
   "source": [
    "- Revise this draft notebook (including by converting DATE to datetime format and training/testing with the full range of data available (data is available over a 3 month period, and only 1 month (4 weeks) of data was used here).\n",
    "- Refine models (hyperparameter tuning, etc.)\n",
    "- Use or make additional features\n",
    "- Try different feature reduction techniques (e.g., PCA)\n",
    "- Try classifying for a different outcome (e.g., increase in GRI by X amount in future, or predict TIR)\n",
    "- Try polynomial regression to predict future GRI and measure the MSE\n",
    "- Also: look deeper in literature review"
   ]
  }
 ],
 "metadata": {
  "kernelspec": {
   "display_name": "Python 3 (ipykernel)",
   "language": "python",
   "name": "python3"
  },
  "language_info": {
   "codemirror_mode": {
    "name": "ipython",
    "version": 3
   },
   "file_extension": ".py",
   "mimetype": "text/x-python",
   "name": "python",
   "nbconvert_exporter": "python",
   "pygments_lexer": "ipython3",
   "version": "3.9.7"
  }
 },
 "nbformat": 4,
 "nbformat_minor": 5
}